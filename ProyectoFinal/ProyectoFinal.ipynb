{
 "cells": [
  {
   "cell_type": "markdown",
   "metadata": {},
   "source": [
    "# Portada\n",
    "\n",
    "### Estudiantes:\n",
    "\n",
    "    Jason Solano \n",
    "\n",
    "    Percy herrara\n",
    "### Curso\n",
    "    Inteligencia de negocios y mineria de datos\n",
    "### Trabajo\n",
    "    Projecto Final "
   ]
  },
  {
   "cell_type": "markdown",
   "metadata": {},
   "source": [
    "# Fase de Entendimiento del negocio"
   ]
  },
  {
   "cell_type": "markdown",
   "metadata": {},
   "source": [
    "## Objetivos del negocio"
   ]
  },
  {
   "cell_type": "markdown",
   "metadata": {},
   "source": [
    "- Facilitar el pronóstico de cuentas que pueden ser incobrables a un largo plazo para poder establecer un arreglo de pago para realizar una liquidación adecuada de la cuenta.\n",
    "\n",
    "\n",
    "- Poder ofrecer una herramienta para el diseño robusto de campañas de cobro de carteras de crédito, las cuales pueden estar conformadas con cuentas que pueden ser incobrables.\n"
   ]
  },
  {
   "cell_type": "markdown",
   "metadata": {},
   "source": [
    "## Criterios de éxito en términos de negocio"
   ]
  },
  {
   "cell_type": "markdown",
   "metadata": {},
   "source": [
    "- Lograr la identificación exitosa de cuentas que pueden ser incobrables para una entidad financiera, reduciendo la cantidad de cuentas incobrables al menos en 30% de acuerdo a los datos históricos de la entidad financiero.\n",
    "\n",
    "\n",
    "- Mostrar a las entidades financieros cuales son los atributos de los clientes  que lo puede llevar a ser una cuenta incobrable para poder facilitar la estadística descriptiva de la entidad financiera."
   ]
  },
  {
   "cell_type": "markdown",
   "metadata": {},
   "source": [
    "## Objetivos de minería de datos"
   ]
  },
  {
   "cell_type": "markdown",
   "metadata": {},
   "source": [
    "- Identificar por medio de modelos de predicción potenciales cuentas que puedan ser incobrables en un futuro, para ofrecer una liquidación por medio de un arreglo de pago.\n",
    "\n",
    "- Identificar cuales son los atributos que más influyen para determinar si una cuenta se le debe realizar la oferta de liquidación debido a que  es catalogada como incobrabl\n"
   ]
  },
  {
   "cell_type": "markdown",
   "metadata": {},
   "source": [
    "## Criterios de éxito para la minería de datos"
   ]
  },
  {
   "cell_type": "markdown",
   "metadata": {},
   "source": [
    "- Obtener al menos un modelo que presente un accuracy (métrica de precisión para exactitud) mayor a un 70% con la utilización de datos externos a los utilizados en el entrenamiento.\n",
    "\n",
    "- Optimizar con diferentes parámetros al menos tres modelos utilizados para la predicción en la categoría de clasificación binaria.\n"
   ]
  },
  {
   "cell_type": "markdown",
   "metadata": {},
   "source": [
    "# Fase de Entendimiento de los datos"
   ]
  },
  {
   "cell_type": "markdown",
   "metadata": {},
   "source": [
    "## Descripción de los datos"
   ]
  },
  {
   "cell_type": "markdown",
   "metadata": {},
   "source": [
    "### Información del conjunto de datos\n",
    "\n",
    "\n",
    "El conjunto de datos es sobre información de campaña de recoleccion de dineros de cuentas en mora, es la informacion sobre clientes contactados, con una oferta concreta para cerrar su cuenta en mora por un monto inferior al actual.\n",
    "\n",
    "El conjunto de datos esta separado por dos archivos CSV, los cuales vamos a unir"
   ]
  },
  {
   "cell_type": "code",
   "execution_count": 1,
   "metadata": {},
   "outputs": [
    {
     "name": "stdout",
     "output_type": "stream",
     "text": [
      "(2595, 31)\n"
     ]
    },
    {
     "data": {
      "text/html": [
       "<div>\n",
       "<style scoped>\n",
       "    .dataframe tbody tr th:only-of-type {\n",
       "        vertical-align: middle;\n",
       "    }\n",
       "\n",
       "    .dataframe tbody tr th {\n",
       "        vertical-align: top;\n",
       "    }\n",
       "\n",
       "    .dataframe thead th {\n",
       "        text-align: right;\n",
       "    }\n",
       "</style>\n",
       "<table border=\"1\" class=\"dataframe\">\n",
       "  <thead>\n",
       "    <tr style=\"text-align: right;\">\n",
       "      <th></th>\n",
       "      <th>id</th>\n",
       "      <th>approval_amount</th>\n",
       "      <th>recommendation</th>\n",
       "      <th>redeem_ts</th>\n",
       "      <th>contacted</th>\n",
       "      <th>email_contacted_ts</th>\n",
       "      <th>sms_contacted_ts</th>\n",
       "      <th>birth_dt</th>\n",
       "      <th>state</th>\n",
       "      <th>city</th>\n",
       "      <th>...</th>\n",
       "      <th>account_payment_method</th>\n",
       "      <th>collections_category</th>\n",
       "      <th>days_past_due</th>\n",
       "      <th>number_of_payments</th>\n",
       "      <th>amount_financed</th>\n",
       "      <th>data_correction</th>\n",
       "      <th>merchant_id</th>\n",
       "      <th>source</th>\n",
       "      <th>initial_decision</th>\n",
       "      <th>last_payment_amount</th>\n",
       "    </tr>\n",
       "  </thead>\n",
       "  <tbody>\n",
       "    <tr>\n",
       "      <th>0</th>\n",
       "      <td>503603788</td>\n",
       "      <td>250.0</td>\n",
       "      <td>APPROVE</td>\n",
       "      <td>2019-01-24 09:50:41.115000</td>\n",
       "      <td>False</td>\n",
       "      <td>NaN</td>\n",
       "      <td>2019-01-24 09:36:27.784000</td>\n",
       "      <td>1988-05-21</td>\n",
       "      <td>CO</td>\n",
       "      <td>Aurora</td>\n",
       "      <td>...</td>\n",
       "      <td>MANUAL</td>\n",
       "      <td>NaN</td>\n",
       "      <td>0</td>\n",
       "      <td>52</td>\n",
       "      <td>NaN</td>\n",
       "      <td>False</td>\n",
       "      <td>14206566</td>\n",
       "      <td>MERCHANT</td>\n",
       "      <td>APPROVED</td>\n",
       "      <td>70.34</td>\n",
       "    </tr>\n",
       "    <tr>\n",
       "      <th>1</th>\n",
       "      <td>399999590</td>\n",
       "      <td>80.0</td>\n",
       "      <td>APPROVE</td>\n",
       "      <td>2019-01-24 17:34:47.768000</td>\n",
       "      <td>False</td>\n",
       "      <td>2019-01-24 12:16:54.626000</td>\n",
       "      <td>NaN</td>\n",
       "      <td>1998-01-13</td>\n",
       "      <td>TX</td>\n",
       "      <td>Weatherford</td>\n",
       "      <td>...</td>\n",
       "      <td>MANUAL</td>\n",
       "      <td>NaN</td>\n",
       "      <td>0</td>\n",
       "      <td>26</td>\n",
       "      <td>0.0</td>\n",
       "      <td>False</td>\n",
       "      <td>107313386</td>\n",
       "      <td>INTERNET</td>\n",
       "      <td>APPROVED</td>\n",
       "      <td>NaN</td>\n",
       "    </tr>\n",
       "    <tr>\n",
       "      <th>2</th>\n",
       "      <td>330633304</td>\n",
       "      <td>956.0</td>\n",
       "      <td>APPROVE</td>\n",
       "      <td>2019-01-24 18:18:53.120000</td>\n",
       "      <td>False</td>\n",
       "      <td>2019-01-24 13:17:29.359000</td>\n",
       "      <td>2019-01-24 13:15:59.087000</td>\n",
       "      <td>1975-12-09</td>\n",
       "      <td>WA</td>\n",
       "      <td>Othello</td>\n",
       "      <td>...</td>\n",
       "      <td>MANUAL</td>\n",
       "      <td>NaN</td>\n",
       "      <td>0</td>\n",
       "      <td>12</td>\n",
       "      <td>0.0</td>\n",
       "      <td>False</td>\n",
       "      <td>230266536</td>\n",
       "      <td>MERCHANT</td>\n",
       "      <td>APPROVED</td>\n",
       "      <td>NaN</td>\n",
       "    </tr>\n",
       "    <tr>\n",
       "      <th>3</th>\n",
       "      <td>422247835</td>\n",
       "      <td>9.0</td>\n",
       "      <td>APPROVE</td>\n",
       "      <td>2019-01-24 18:36:06.694000</td>\n",
       "      <td>False</td>\n",
       "      <td>NaN</td>\n",
       "      <td>2019-01-24 13:19:17.988000</td>\n",
       "      <td>1985-09-09</td>\n",
       "      <td>CA</td>\n",
       "      <td>Imperial</td>\n",
       "      <td>...</td>\n",
       "      <td>MANUAL</td>\n",
       "      <td>NaN</td>\n",
       "      <td>0</td>\n",
       "      <td>26</td>\n",
       "      <td>0.0</td>\n",
       "      <td>False</td>\n",
       "      <td>332752404</td>\n",
       "      <td>MERCHANT</td>\n",
       "      <td>APPROVED</td>\n",
       "      <td>NaN</td>\n",
       "    </tr>\n",
       "    <tr>\n",
       "      <th>4</th>\n",
       "      <td>427183074</td>\n",
       "      <td>250.0</td>\n",
       "      <td>APPROVE</td>\n",
       "      <td>2019-01-25 08:47:49.726000</td>\n",
       "      <td>False</td>\n",
       "      <td>2019-01-24 09:08:46.690000</td>\n",
       "      <td>2019-01-24 09:08:20.447000</td>\n",
       "      <td>1980-11-23</td>\n",
       "      <td>OH</td>\n",
       "      <td>Cleveland</td>\n",
       "      <td>...</td>\n",
       "      <td>MANUAL</td>\n",
       "      <td>NaN</td>\n",
       "      <td>0</td>\n",
       "      <td>26</td>\n",
       "      <td>0.0</td>\n",
       "      <td>False</td>\n",
       "      <td>358414568</td>\n",
       "      <td>MERCHANT</td>\n",
       "      <td>APPROVED</td>\n",
       "      <td>NaN</td>\n",
       "    </tr>\n",
       "  </tbody>\n",
       "</table>\n",
       "<p>5 rows × 31 columns</p>\n",
       "</div>"
      ],
      "text/plain": [
       "          id  approval_amount recommendation                   redeem_ts  \\\n",
       "0  503603788            250.0        APPROVE  2019-01-24 09:50:41.115000   \n",
       "1  399999590             80.0        APPROVE  2019-01-24 17:34:47.768000   \n",
       "2  330633304            956.0        APPROVE  2019-01-24 18:18:53.120000   \n",
       "3  422247835              9.0        APPROVE  2019-01-24 18:36:06.694000   \n",
       "4  427183074            250.0        APPROVE  2019-01-25 08:47:49.726000   \n",
       "\n",
       "   contacted          email_contacted_ts            sms_contacted_ts  \\\n",
       "0      False                         NaN  2019-01-24 09:36:27.784000   \n",
       "1      False  2019-01-24 12:16:54.626000                         NaN   \n",
       "2      False  2019-01-24 13:17:29.359000  2019-01-24 13:15:59.087000   \n",
       "3      False                         NaN  2019-01-24 13:19:17.988000   \n",
       "4      False  2019-01-24 09:08:46.690000  2019-01-24 09:08:20.447000   \n",
       "\n",
       "     birth_dt state         city         ...           account_payment_method  \\\n",
       "0  1988-05-21    CO       Aurora         ...                           MANUAL   \n",
       "1  1998-01-13    TX  Weatherford         ...                           MANUAL   \n",
       "2  1975-12-09    WA      Othello         ...                           MANUAL   \n",
       "3  1985-09-09    CA     Imperial         ...                           MANUAL   \n",
       "4  1980-11-23    OH    Cleveland         ...                           MANUAL   \n",
       "\n",
       "  collections_category  days_past_due  number_of_payments amount_financed  \\\n",
       "0                  NaN              0                  52             NaN   \n",
       "1                  NaN              0                  26             0.0   \n",
       "2                  NaN              0                  12             0.0   \n",
       "3                  NaN              0                  26             0.0   \n",
       "4                  NaN              0                  26             0.0   \n",
       "\n",
       "   data_correction merchant_id    source initial_decision  last_payment_amount  \n",
       "0            False    14206566  MERCHANT         APPROVED                70.34  \n",
       "1            False   107313386  INTERNET         APPROVED                  NaN  \n",
       "2            False   230266536  MERCHANT         APPROVED                  NaN  \n",
       "3            False   332752404  MERCHANT         APPROVED                  NaN  \n",
       "4            False   358414568  MERCHANT         APPROVED                  NaN  \n",
       "\n",
       "[5 rows x 31 columns]"
      ]
     },
     "execution_count": 1,
     "metadata": {},
     "output_type": "execute_result"
    }
   ],
   "source": [
    "import pandas as pd\n",
    "import matplotlib.pyplot as plt\n",
    "\n",
    "df1 = pd.read_csv('proyectoF1T.csv')\n",
    "df2 = pd.read_csv('proyectoF2F.csv')\n",
    "print(df1.shape)\n",
    "df1.head()"
   ]
  },
  {
   "cell_type": "markdown",
   "metadata": {},
   "source": [
    "### Se realiza la unión de los dos datasets\n",
    "\n",
    "Por lo cual se puede ver la cantidad de registros y columnas.\n",
    "\n",
    "Cantidad Registros: 6095\n",
    "\n",
    "Cantidad de columnas: 31"
   ]
  },
  {
   "cell_type": "code",
   "execution_count": 2,
   "metadata": {},
   "outputs": [
    {
     "name": "stdout",
     "output_type": "stream",
     "text": [
      "(6095, 31)\n"
     ]
    }
   ],
   "source": [
    "df1 = df1.append(df2)\n",
    "df2 = None    \n",
    "print(df1.shape)"
   ]
  },
  {
   "cell_type": "markdown",
   "metadata": {},
   "source": [
    "### Se observan las variables del dataset"
   ]
  },
  {
   "cell_type": "code",
   "execution_count": 3,
   "metadata": {},
   "outputs": [
    {
     "data": {
      "text/plain": [
       "Index(['id', 'approval_amount', 'recommendation', 'redeem_ts', 'contacted',\n",
       "       'email_contacted_ts', 'sms_contacted_ts', 'birth_dt', 'state', 'city',\n",
       "       'zip_code', 'rent_or_own', 'months_at_current_residence',\n",
       "       'years_at_current_residence', 'direct_deposit', 'black_listed',\n",
       "       'language_preference', 'military_applicant', 'payment_frequency',\n",
       "       'scheduled_payment_amt', 'past_due_amt', 'account_payment_method',\n",
       "       'collections_category', 'days_past_due', 'number_of_payments',\n",
       "       'amount_financed', 'data_correction', 'merchant_id', 'source',\n",
       "       'initial_decision', 'last_payment_amount'],\n",
       "      dtype='object')"
      ]
     },
     "execution_count": 3,
     "metadata": {},
     "output_type": "execute_result"
    }
   ],
   "source": [
    "df1.columns"
   ]
  },
  {
   "cell_type": "markdown",
   "metadata": {},
   "source": [
    "## Explicación de las columnas"
   ]
  },
  {
   "cell_type": "markdown",
   "metadata": {},
   "source": [
    "- id\n",
    "    - Id de cada fila.\n",
    "- merchant_id\n",
    "    - Id para cada comerciante.\n",
    "- last_payment_amount\n",
    "    - La cantidad del último pago realizado.\n",
    "- birth_dt\n",
    "    - Fecha de cumpleaños de cada cliente\n",
    "- redeem_ts\n",
    "    - Personas a las cuales se les debe ofrecer la oferta de liquidación, fecha que se hizo.\n",
    "- account_payment_method\n",
    "    - Forma de pago configurada para la cuenta.\n",
    "- approval_amount\n",
    "    - Monto aprobado del préstamo.\n",
    "- scheduled_payment_amt\n",
    "    - Monto de la cuota configurada para el préstamo.\n",
    "- days_past_due\n",
    "    - Días en que acumula en mora la cuenta.\n",
    "- past_due_amt\n",
    "    - Monto que se encuentra en atraso para la cuenta.\n",
    "- zip_code\n",
    "    - Código postal del cliente al cual le pertenece la cuenta.\n",
    "- age\n",
    "    - Edad del cliente de la cuenta.\n",
    "- city\n",
    "    - Ciudad de domicilio del cliente.\n",
    "- sms_contacted_ts\n",
    "    - Fecha en que se le contactó por medio de mensaje de texto al celular.\n",
    "- state\n",
    "    - Estado de domicilio de la persona de la cuenta.\n",
    "- years_at_current_residence\n",
    "    - Años viviendo en la actual residencia.\n",
    "- months_at_current_residence\n",
    "    - Meses viviendo en la actual residencia.\n",
    "- source\n",
    "    - Fuente desde donde se genero el préstamo (Internet, Agencia, etc).\n",
    "- collections_category\n",
    "    - Columna no especificamente descripta.\n",
    "- email_contacted_ts\n",
    "    - Fecha en que se le contactó por medio de correo electrónico.\n",
    "- payment_frequency\n",
    "    - Frecuencia de pago de la cuenta.\n",
    "- number_of_payments\n",
    "    - Cantidad de pagos necesarios para cancelar la cuenta.\n",
    "- rent_or_own\n",
    "    - Es propietario de vivienda o renta.\n",
    "- initial_decision\n",
    "    - Decisión inicial al crear la cuenta (Aprobación o Denegar).\n",
    "- language_preference\n",
    "    - Lenguaje en que prefiere el cliente ser contactado (Español o Inglés).\n",
    "- contacted\n",
    "    - Si se logró contactar anteriormente.\n",
    "- data_correction\n",
    "    - Si se tuvo que corregir los datos del cliente en algún momento (True, False).\n",
    "- black_listed\n",
    "    - Si en algún momento el cliente fue incluido en lista negra por fraude.\n",
    "- direct_deposit\n",
    "    - Si la el préstamo está configurado para recibir los pagos de forma automática por depósito.\n",
    "- recommendation\n",
    "    - Recomendación que se señaló al formalizar la cuenta (Aprobar o Denegar).\n",
    "- military_applicant\n",
    "    - Si el cliente es veterano o actualmente miembro de la fuerza militar.\n"
   ]
  },
  {
   "cell_type": "markdown",
   "metadata": {},
   "source": [
    "### Tipos de datos"
   ]
  },
  {
   "cell_type": "markdown",
   "metadata": {},
   "source": [
    "    id                               int64\n",
    "\n",
    "    approval_amount                float64\n",
    "\n",
    "    recommendation                  string\n",
    "\n",
    "    redeem_ts                         date\n",
    "\n",
    "    contacted                         bool\n",
    "\n",
    "    email_contacted_ts                date\n",
    "\n",
    "    sms_contacted_ts                  date\n",
    "\n",
    "    birth_dt                          date\n",
    "\n",
    "    state                           string\n",
    "\n",
    "    city                            string\n",
    "\n",
    "    zip_code                         int64\n",
    "\n",
    "    rent_or_own                     string\n",
    "\n",
    "    months_at_current_residence      int64\n",
    "\n",
    "    years_at_current_residence       int64\n",
    "\n",
    "    direct_deposit                    bool\n",
    "\n",
    "    black_listed                      bool\n",
    "\n",
    "    language_preference             string\n",
    "\n",
    "    military_applicant                bool\n",
    "\n",
    "    payment_frequency               string\n",
    "\n",
    "    scheduled_payment_amt          float64\n",
    "\n",
    "    past_due_amt                   float64\n",
    "\n",
    "    account_payment_method          string\n",
    "\n",
    "    collections_category            string\n",
    "\n",
    "    days_past_due                    int64\n",
    "\n",
    "    number_of_payments               int64\n",
    "\n",
    "    amount_financed                float64\n",
    "\n",
    "    data_correction                   bool\n",
    "\n",
    "    merchant_id                      int64\n",
    "\n",
    "    source                          string\n",
    "\n",
    "    initial_decision                string\n",
    "\n",
    "    last_payment_amount            float64"
   ]
  },
  {
   "cell_type": "markdown",
   "metadata": {},
   "source": [
    "### Datos generales del conjunto de datos"
   ]
  },
  {
   "cell_type": "code",
   "execution_count": 4,
   "metadata": {},
   "outputs": [
    {
     "data": {
      "text/html": [
       "<div>\n",
       "<style scoped>\n",
       "    .dataframe tbody tr th:only-of-type {\n",
       "        vertical-align: middle;\n",
       "    }\n",
       "\n",
       "    .dataframe tbody tr th {\n",
       "        vertical-align: top;\n",
       "    }\n",
       "\n",
       "    .dataframe thead th {\n",
       "        text-align: right;\n",
       "    }\n",
       "</style>\n",
       "<table border=\"1\" class=\"dataframe\">\n",
       "  <thead>\n",
       "    <tr style=\"text-align: right;\">\n",
       "      <th></th>\n",
       "      <th>id</th>\n",
       "      <th>approval_amount</th>\n",
       "      <th>zip_code</th>\n",
       "      <th>months_at_current_residence</th>\n",
       "      <th>years_at_current_residence</th>\n",
       "      <th>scheduled_payment_amt</th>\n",
       "      <th>past_due_amt</th>\n",
       "      <th>days_past_due</th>\n",
       "      <th>number_of_payments</th>\n",
       "      <th>amount_financed</th>\n",
       "      <th>merchant_id</th>\n",
       "      <th>last_payment_amount</th>\n",
       "    </tr>\n",
       "  </thead>\n",
       "  <tbody>\n",
       "    <tr>\n",
       "      <th>count</th>\n",
       "      <td>6.095000e+03</td>\n",
       "      <td>6095.000000</td>\n",
       "      <td>6095.000000</td>\n",
       "      <td>6095.000000</td>\n",
       "      <td>6095.000000</td>\n",
       "      <td>6095.000000</td>\n",
       "      <td>6095.000000</td>\n",
       "      <td>6095.000000</td>\n",
       "      <td>6095.000000</td>\n",
       "      <td>2855.0</td>\n",
       "      <td>6.095000e+03</td>\n",
       "      <td>3044.000000</td>\n",
       "    </tr>\n",
       "    <tr>\n",
       "      <th>mean</th>\n",
       "      <td>4.565517e+08</td>\n",
       "      <td>557.357670</td>\n",
       "      <td>61592.610008</td>\n",
       "      <td>2.070057</td>\n",
       "      <td>3.547990</td>\n",
       "      <td>107.171736</td>\n",
       "      <td>94.349810</td>\n",
       "      <td>14.462510</td>\n",
       "      <td>32.452174</td>\n",
       "      <td>0.0</td>\n",
       "      <td>1.991524e+08</td>\n",
       "      <td>117.082050</td>\n",
       "    </tr>\n",
       "    <tr>\n",
       "      <th>std</th>\n",
       "      <td>1.730670e+08</td>\n",
       "      <td>371.192573</td>\n",
       "      <td>28386.361369</td>\n",
       "      <td>3.213727</td>\n",
       "      <td>3.137995</td>\n",
       "      <td>89.448125</td>\n",
       "      <td>357.118752</td>\n",
       "      <td>46.452751</td>\n",
       "      <td>14.133418</td>\n",
       "      <td>0.0</td>\n",
       "      <td>1.718332e+08</td>\n",
       "      <td>102.038427</td>\n",
       "    </tr>\n",
       "    <tr>\n",
       "      <th>min</th>\n",
       "      <td>4.396600e+04</td>\n",
       "      <td>3.000000</td>\n",
       "      <td>0.000000</td>\n",
       "      <td>0.000000</td>\n",
       "      <td>0.000000</td>\n",
       "      <td>-83.120000</td>\n",
       "      <td>0.000000</td>\n",
       "      <td>0.000000</td>\n",
       "      <td>12.000000</td>\n",
       "      <td>0.0</td>\n",
       "      <td>2.110000e+02</td>\n",
       "      <td>-1344.000000</td>\n",
       "    </tr>\n",
       "    <tr>\n",
       "      <th>25%</th>\n",
       "      <td>3.692606e+08</td>\n",
       "      <td>274.000000</td>\n",
       "      <td>33012.000000</td>\n",
       "      <td>0.000000</td>\n",
       "      <td>1.000000</td>\n",
       "      <td>48.040000</td>\n",
       "      <td>0.000000</td>\n",
       "      <td>0.000000</td>\n",
       "      <td>24.000000</td>\n",
       "      <td>0.0</td>\n",
       "      <td>1.853463e+07</td>\n",
       "      <td>62.007500</td>\n",
       "    </tr>\n",
       "    <tr>\n",
       "      <th>50%</th>\n",
       "      <td>4.760580e+08</td>\n",
       "      <td>487.000000</td>\n",
       "      <td>76119.000000</td>\n",
       "      <td>0.000000</td>\n",
       "      <td>3.000000</td>\n",
       "      <td>80.430000</td>\n",
       "      <td>0.000000</td>\n",
       "      <td>0.000000</td>\n",
       "      <td>26.000000</td>\n",
       "      <td>0.0</td>\n",
       "      <td>1.660589e+08</td>\n",
       "      <td>93.760000</td>\n",
       "    </tr>\n",
       "    <tr>\n",
       "      <th>75%</th>\n",
       "      <td>5.770807e+08</td>\n",
       "      <td>764.000000</td>\n",
       "      <td>85041.000000</td>\n",
       "      <td>3.000000</td>\n",
       "      <td>6.000000</td>\n",
       "      <td>134.450000</td>\n",
       "      <td>0.000000</td>\n",
       "      <td>0.000000</td>\n",
       "      <td>52.000000</td>\n",
       "      <td>0.0</td>\n",
       "      <td>3.524943e+08</td>\n",
       "      <td>146.012500</td>\n",
       "    </tr>\n",
       "    <tr>\n",
       "      <th>max</th>\n",
       "      <td>8.277996e+08</td>\n",
       "      <td>2899.000000</td>\n",
       "      <td>320568.000000</td>\n",
       "      <td>24.000000</td>\n",
       "      <td>48.000000</td>\n",
       "      <td>696.710000</td>\n",
       "      <td>3714.450000</td>\n",
       "      <td>337.000000</td>\n",
       "      <td>52.000000</td>\n",
       "      <td>0.0</td>\n",
       "      <td>4.902396e+08</td>\n",
       "      <td>2240.740000</td>\n",
       "    </tr>\n",
       "  </tbody>\n",
       "</table>\n",
       "</div>"
      ],
      "text/plain": [
       "                 id  approval_amount       zip_code  \\\n",
       "count  6.095000e+03      6095.000000    6095.000000   \n",
       "mean   4.565517e+08       557.357670   61592.610008   \n",
       "std    1.730670e+08       371.192573   28386.361369   \n",
       "min    4.396600e+04         3.000000       0.000000   \n",
       "25%    3.692606e+08       274.000000   33012.000000   \n",
       "50%    4.760580e+08       487.000000   76119.000000   \n",
       "75%    5.770807e+08       764.000000   85041.000000   \n",
       "max    8.277996e+08      2899.000000  320568.000000   \n",
       "\n",
       "       months_at_current_residence  years_at_current_residence  \\\n",
       "count                  6095.000000                 6095.000000   \n",
       "mean                      2.070057                    3.547990   \n",
       "std                       3.213727                    3.137995   \n",
       "min                       0.000000                    0.000000   \n",
       "25%                       0.000000                    1.000000   \n",
       "50%                       0.000000                    3.000000   \n",
       "75%                       3.000000                    6.000000   \n",
       "max                      24.000000                   48.000000   \n",
       "\n",
       "       scheduled_payment_amt  past_due_amt  days_past_due  number_of_payments  \\\n",
       "count            6095.000000   6095.000000    6095.000000         6095.000000   \n",
       "mean              107.171736     94.349810      14.462510           32.452174   \n",
       "std                89.448125    357.118752      46.452751           14.133418   \n",
       "min               -83.120000      0.000000       0.000000           12.000000   \n",
       "25%                48.040000      0.000000       0.000000           24.000000   \n",
       "50%                80.430000      0.000000       0.000000           26.000000   \n",
       "75%               134.450000      0.000000       0.000000           52.000000   \n",
       "max               696.710000   3714.450000     337.000000           52.000000   \n",
       "\n",
       "       amount_financed   merchant_id  last_payment_amount  \n",
       "count           2855.0  6.095000e+03          3044.000000  \n",
       "mean               0.0  1.991524e+08           117.082050  \n",
       "std                0.0  1.718332e+08           102.038427  \n",
       "min                0.0  2.110000e+02         -1344.000000  \n",
       "25%                0.0  1.853463e+07            62.007500  \n",
       "50%                0.0  1.660589e+08            93.760000  \n",
       "75%                0.0  3.524943e+08           146.012500  \n",
       "max                0.0  4.902396e+08          2240.740000  "
      ]
     },
     "execution_count": 4,
     "metadata": {},
     "output_type": "execute_result"
    }
   ],
   "source": [
    "df1.describe()"
   ]
  },
  {
   "cell_type": "markdown",
   "metadata": {},
   "source": [
    "Por medio del describe se nos muestra un summary de cuartiles, cantidad de registros,la media y desviación estandar"
   ]
  },
  {
   "cell_type": "markdown",
   "metadata": {},
   "source": [
    "## Exploración de los datos y verificación de datos"
   ]
  },
  {
   "cell_type": "markdown",
   "metadata": {},
   "source": [
    "Para esta sección se aplicaran ambos casos, aunque también se ha aplicado exploración de los datos en la sección anterior."
   ]
  },
  {
   "cell_type": "markdown",
   "metadata": {},
   "source": [
    "### Analisis de variables nulas"
   ]
  },
  {
   "cell_type": "markdown",
   "metadata": {},
   "source": [
    "En la siguiente sección se evaluara la cantidad de nulos, esta cantidad sera mostrada por medio del porcentaje de nulos para cada columna."
   ]
  },
  {
   "cell_type": "code",
   "execution_count": 5,
   "metadata": {},
   "outputs": [
    {
     "data": {
      "text/plain": [
       "id                             0.0000\n",
       "approval_amount                0.0000\n",
       "recommendation                 0.0000\n",
       "redeem_ts                      0.5742\n",
       "contacted                      0.0000\n",
       "email_contacted_ts             0.0786\n",
       "sms_contacted_ts               0.3993\n",
       "birth_dt                       0.0000\n",
       "state                          0.0000\n",
       "city                           0.0003\n",
       "zip_code                       0.0000\n",
       "rent_or_own                    0.0000\n",
       "months_at_current_residence    0.0000\n",
       "years_at_current_residence     0.0000\n",
       "direct_deposit                 0.0028\n",
       "black_listed                   0.0000\n",
       "language_preference            0.0000\n",
       "military_applicant             0.0000\n",
       "payment_frequency              0.0000\n",
       "scheduled_payment_amt          0.0000\n",
       "past_due_amt                   0.0000\n",
       "account_payment_method         0.0000\n",
       "collections_category           0.4167\n",
       "days_past_due                  0.0000\n",
       "number_of_payments             0.0000\n",
       "amount_financed                0.5316\n",
       "data_correction                0.0000\n",
       "merchant_id                    0.0000\n",
       "source                         0.0000\n",
       "initial_decision               0.0000\n",
       "last_payment_amount            0.5006\n",
       "dtype: float64"
      ]
     },
     "execution_count": 5,
     "metadata": {},
     "output_type": "execute_result"
    }
   ],
   "source": [
    "df1.isna().mean().round(4)"
   ]
  },
  {
   "cell_type": "markdown",
   "metadata": {},
   "source": [
    "Se puede observar existe varias columnas que contienen un alto porcentaje de nulos, por lo cual en la siguiente fase seran evaluadas."
   ]
  },
  {
   "cell_type": "markdown",
   "metadata": {},
   "source": [
    "### Análisis para conversión de datos"
   ]
  },
  {
   "cell_type": "markdown",
   "metadata": {},
   "source": [
    "Algunas variables presentan valores nulos, que en una representacion binario serian de un valor cero y si contienen datos serian un valor 1."
   ]
  },
  {
   "cell_type": "markdown",
   "metadata": {},
   "source": [
    "**sms_contacted_ts**\n",
    "\n",
    "Esta columna aplica dado que los nulos equivalen a personas que no fueron contactadas por SMS, esta información si es importante para nuestro análisis, en la siguiente fase remplazaremos estos valores por valores booleanos para identificar las personas contactadas por este medio.\n",
    "\n",
    "**emal_contacted**\n",
    "\n",
    "Esta columna aplica dado que los nulos equivalen a personas que no fueron contactadas por email, esta información si es importante para nuestro análisis, en la siguiente fase remplazaremos estos valores por valores booleanos para identificar las personas contactadas por este medio.\n",
    "\n",
    "**redeem_ts**\n",
    "\n",
    "Un caso muy similar a las otra columnas donde los valores nulos serian personas que no se le presentaron oferta, y las instancias con valores de fecha serian las personas que si se le presentaron una oferta.\n",
    "\n",
    "**direct_deposit**\n",
    "\n",
    "Columna Booleane que indica si se hizo un depósito directo, para el caso de los valores nulos que se encuentran seran tomados como falsos."
   ]
  },
  {
   "cell_type": "markdown",
   "metadata": {},
   "source": [
    "# Fase de Preparación de los datos"
   ]
  },
  {
   "cell_type": "markdown",
   "metadata": {},
   "source": [
    "## Limpieza de los datos y selección de datos"
   ]
  },
  {
   "cell_type": "markdown",
   "metadata": {},
   "source": [
    "Durante esta sección veremos algunos datos descartados y limpieza de valores nulos."
   ]
  },
  {
   "cell_type": "markdown",
   "metadata": {},
   "source": [
    "### Realizamos la conversión de datos nulos\n",
    "Como se menciona anteriormente tratamos las variables con valores nulos que pueden ser interpretados como booleanos."
   ]
  },
  {
   "cell_type": "code",
   "execution_count": 6,
   "metadata": {},
   "outputs": [
    {
     "data": {
      "text/html": [
       "<div>\n",
       "<style scoped>\n",
       "    .dataframe tbody tr th:only-of-type {\n",
       "        vertical-align: middle;\n",
       "    }\n",
       "\n",
       "    .dataframe tbody tr th {\n",
       "        vertical-align: top;\n",
       "    }\n",
       "\n",
       "    .dataframe thead th {\n",
       "        text-align: right;\n",
       "    }\n",
       "</style>\n",
       "<table border=\"1\" class=\"dataframe\">\n",
       "  <thead>\n",
       "    <tr style=\"text-align: right;\">\n",
       "      <th></th>\n",
       "      <th>id</th>\n",
       "      <th>approval_amount</th>\n",
       "      <th>recommendation</th>\n",
       "      <th>redeem_ts</th>\n",
       "      <th>contacted</th>\n",
       "      <th>email_contacted_ts</th>\n",
       "      <th>sms_contacted_ts</th>\n",
       "      <th>birth_dt</th>\n",
       "      <th>state</th>\n",
       "      <th>city</th>\n",
       "      <th>...</th>\n",
       "      <th>account_payment_method</th>\n",
       "      <th>collections_category</th>\n",
       "      <th>days_past_due</th>\n",
       "      <th>number_of_payments</th>\n",
       "      <th>amount_financed</th>\n",
       "      <th>data_correction</th>\n",
       "      <th>merchant_id</th>\n",
       "      <th>source</th>\n",
       "      <th>initial_decision</th>\n",
       "      <th>last_payment_amount</th>\n",
       "    </tr>\n",
       "  </thead>\n",
       "  <tbody>\n",
       "    <tr>\n",
       "      <th>0</th>\n",
       "      <td>503603788</td>\n",
       "      <td>250.0</td>\n",
       "      <td>APPROVE</td>\n",
       "      <td>True</td>\n",
       "      <td>False</td>\n",
       "      <td>False</td>\n",
       "      <td>True</td>\n",
       "      <td>1988-05-21</td>\n",
       "      <td>CO</td>\n",
       "      <td>Aurora</td>\n",
       "      <td>...</td>\n",
       "      <td>MANUAL</td>\n",
       "      <td>NaN</td>\n",
       "      <td>0</td>\n",
       "      <td>52</td>\n",
       "      <td>NaN</td>\n",
       "      <td>False</td>\n",
       "      <td>14206566</td>\n",
       "      <td>MERCHANT</td>\n",
       "      <td>APPROVED</td>\n",
       "      <td>70.34</td>\n",
       "    </tr>\n",
       "    <tr>\n",
       "      <th>1</th>\n",
       "      <td>399999590</td>\n",
       "      <td>80.0</td>\n",
       "      <td>APPROVE</td>\n",
       "      <td>True</td>\n",
       "      <td>False</td>\n",
       "      <td>True</td>\n",
       "      <td>False</td>\n",
       "      <td>1998-01-13</td>\n",
       "      <td>TX</td>\n",
       "      <td>Weatherford</td>\n",
       "      <td>...</td>\n",
       "      <td>MANUAL</td>\n",
       "      <td>NaN</td>\n",
       "      <td>0</td>\n",
       "      <td>26</td>\n",
       "      <td>0.0</td>\n",
       "      <td>False</td>\n",
       "      <td>107313386</td>\n",
       "      <td>INTERNET</td>\n",
       "      <td>APPROVED</td>\n",
       "      <td>NaN</td>\n",
       "    </tr>\n",
       "    <tr>\n",
       "      <th>2</th>\n",
       "      <td>330633304</td>\n",
       "      <td>956.0</td>\n",
       "      <td>APPROVE</td>\n",
       "      <td>True</td>\n",
       "      <td>False</td>\n",
       "      <td>True</td>\n",
       "      <td>True</td>\n",
       "      <td>1975-12-09</td>\n",
       "      <td>WA</td>\n",
       "      <td>Othello</td>\n",
       "      <td>...</td>\n",
       "      <td>MANUAL</td>\n",
       "      <td>NaN</td>\n",
       "      <td>0</td>\n",
       "      <td>12</td>\n",
       "      <td>0.0</td>\n",
       "      <td>False</td>\n",
       "      <td>230266536</td>\n",
       "      <td>MERCHANT</td>\n",
       "      <td>APPROVED</td>\n",
       "      <td>NaN</td>\n",
       "    </tr>\n",
       "    <tr>\n",
       "      <th>3</th>\n",
       "      <td>422247835</td>\n",
       "      <td>9.0</td>\n",
       "      <td>APPROVE</td>\n",
       "      <td>True</td>\n",
       "      <td>False</td>\n",
       "      <td>False</td>\n",
       "      <td>True</td>\n",
       "      <td>1985-09-09</td>\n",
       "      <td>CA</td>\n",
       "      <td>Imperial</td>\n",
       "      <td>...</td>\n",
       "      <td>MANUAL</td>\n",
       "      <td>NaN</td>\n",
       "      <td>0</td>\n",
       "      <td>26</td>\n",
       "      <td>0.0</td>\n",
       "      <td>False</td>\n",
       "      <td>332752404</td>\n",
       "      <td>MERCHANT</td>\n",
       "      <td>APPROVED</td>\n",
       "      <td>NaN</td>\n",
       "    </tr>\n",
       "    <tr>\n",
       "      <th>4</th>\n",
       "      <td>427183074</td>\n",
       "      <td>250.0</td>\n",
       "      <td>APPROVE</td>\n",
       "      <td>True</td>\n",
       "      <td>False</td>\n",
       "      <td>True</td>\n",
       "      <td>True</td>\n",
       "      <td>1980-11-23</td>\n",
       "      <td>OH</td>\n",
       "      <td>Cleveland</td>\n",
       "      <td>...</td>\n",
       "      <td>MANUAL</td>\n",
       "      <td>NaN</td>\n",
       "      <td>0</td>\n",
       "      <td>26</td>\n",
       "      <td>0.0</td>\n",
       "      <td>False</td>\n",
       "      <td>358414568</td>\n",
       "      <td>MERCHANT</td>\n",
       "      <td>APPROVED</td>\n",
       "      <td>NaN</td>\n",
       "    </tr>\n",
       "  </tbody>\n",
       "</table>\n",
       "<p>5 rows × 31 columns</p>\n",
       "</div>"
      ],
      "text/plain": [
       "          id  approval_amount recommendation  redeem_ts  contacted  \\\n",
       "0  503603788            250.0        APPROVE       True      False   \n",
       "1  399999590             80.0        APPROVE       True      False   \n",
       "2  330633304            956.0        APPROVE       True      False   \n",
       "3  422247835              9.0        APPROVE       True      False   \n",
       "4  427183074            250.0        APPROVE       True      False   \n",
       "\n",
       "   email_contacted_ts  sms_contacted_ts    birth_dt state         city  \\\n",
       "0               False              True  1988-05-21    CO       Aurora   \n",
       "1                True             False  1998-01-13    TX  Weatherford   \n",
       "2                True              True  1975-12-09    WA      Othello   \n",
       "3               False              True  1985-09-09    CA     Imperial   \n",
       "4                True              True  1980-11-23    OH    Cleveland   \n",
       "\n",
       "          ...           account_payment_method collections_category  \\\n",
       "0         ...                           MANUAL                  NaN   \n",
       "1         ...                           MANUAL                  NaN   \n",
       "2         ...                           MANUAL                  NaN   \n",
       "3         ...                           MANUAL                  NaN   \n",
       "4         ...                           MANUAL                  NaN   \n",
       "\n",
       "   days_past_due  number_of_payments  amount_financed  data_correction  \\\n",
       "0              0                  52              NaN            False   \n",
       "1              0                  26              0.0            False   \n",
       "2              0                  12              0.0            False   \n",
       "3              0                  26              0.0            False   \n",
       "4              0                  26              0.0            False   \n",
       "\n",
       "  merchant_id    source initial_decision  last_payment_amount  \n",
       "0    14206566  MERCHANT         APPROVED                70.34  \n",
       "1   107313386  INTERNET         APPROVED                  NaN  \n",
       "2   230266536  MERCHANT         APPROVED                  NaN  \n",
       "3   332752404  MERCHANT         APPROVED                  NaN  \n",
       "4   358414568  MERCHANT         APPROVED                  NaN  \n",
       "\n",
       "[5 rows x 31 columns]"
      ]
     },
     "execution_count": 6,
     "metadata": {},
     "output_type": "execute_result"
    }
   ],
   "source": [
    "df1.loc[~df1.email_contacted_ts.isnull(),\"email_contacted_ts\"]=True \n",
    "df1.loc[~df1.sms_contacted_ts.isnull(),\"sms_contacted_ts\"]=True \n",
    "df1.loc[~df1.direct_deposit.isnull(),\"direct_deposit\"]=True \n",
    "df1.loc[~df1.redeem_ts.isnull(),\"redeem_ts\"]=True \n",
    "df1[\"email_contacted_ts\"].fillna(False, inplace = True) \n",
    "df1[\"sms_contacted_ts\"].fillna(False, inplace = True)\n",
    "df1[\"direct_deposit\"].fillna(False, inplace = True)\n",
    "df1[\"redeem_ts\"].fillna(False, inplace = True) \n",
    "df1.head()"
   ]
  },
  {
   "cell_type": "markdown",
   "metadata": {},
   "source": [
    "Nuevamente se vuelve a comprobar los valores que son nulos."
   ]
  },
  {
   "cell_type": "code",
   "execution_count": 7,
   "metadata": {},
   "outputs": [
    {
     "data": {
      "text/plain": [
       "id                             0.0000\n",
       "approval_amount                0.0000\n",
       "recommendation                 0.0000\n",
       "redeem_ts                      0.0000\n",
       "contacted                      0.0000\n",
       "email_contacted_ts             0.0000\n",
       "sms_contacted_ts               0.0000\n",
       "birth_dt                       0.0000\n",
       "state                          0.0000\n",
       "city                           0.0003\n",
       "zip_code                       0.0000\n",
       "rent_or_own                    0.0000\n",
       "months_at_current_residence    0.0000\n",
       "years_at_current_residence     0.0000\n",
       "direct_deposit                 0.0000\n",
       "black_listed                   0.0000\n",
       "language_preference            0.0000\n",
       "military_applicant             0.0000\n",
       "payment_frequency              0.0000\n",
       "scheduled_payment_amt          0.0000\n",
       "past_due_amt                   0.0000\n",
       "account_payment_method         0.0000\n",
       "collections_category           0.4167\n",
       "days_past_due                  0.0000\n",
       "number_of_payments             0.0000\n",
       "amount_financed                0.5316\n",
       "data_correction                0.0000\n",
       "merchant_id                    0.0000\n",
       "source                         0.0000\n",
       "initial_decision               0.0000\n",
       "last_payment_amount            0.5006\n",
       "dtype: float64"
      ]
     },
     "execution_count": 7,
     "metadata": {},
     "output_type": "execute_result"
    }
   ],
   "source": [
    "df1.isna().mean().round(4)"
   ]
  },
  {
   "cell_type": "markdown",
   "metadata": {},
   "source": [
    "### Eliminación de  columnas y filas que contengan datos nulos\n",
    "\n",
    "En este proceso se realiza la primera escogencia de datos.\n",
    "\n",
    "Al observar las siguientes columnas que contienen una gran cantidad de nulos seran borradas:\n",
    "\n",
    "collections_category\n",
    "\n",
    "amount_financed\n",
    "\n",
    "last_payment_amount\n",
    "\n",
    "Por otra parte se decide borrar un porcentaje pequeño de filas equivalente al 0.0003, \n",
    "\n",
    "pertenecientes a valores nulos\n",
    "\n"
   ]
  },
  {
   "cell_type": "code",
   "execution_count": 8,
   "metadata": {},
   "outputs": [],
   "source": [
    "df1 = df1.drop(columns=['collections_category','amount_financed','last_payment_amount'])"
   ]
  },
  {
   "cell_type": "code",
   "execution_count": 9,
   "metadata": {},
   "outputs": [
    {
     "data": {
      "text/plain": [
       "(6095, 28)"
      ]
     },
     "execution_count": 9,
     "metadata": {},
     "output_type": "execute_result"
    }
   ],
   "source": [
    "df1.shape"
   ]
  },
  {
   "cell_type": "markdown",
   "metadata": {},
   "source": [
    "Se borran el 0.0003 de filas pertenecientes a valores nulos de city"
   ]
  },
  {
   "cell_type": "code",
   "execution_count": 10,
   "metadata": {},
   "outputs": [
    {
     "data": {
      "text/plain": [
       "(6093, 28)"
      ]
     },
     "execution_count": 10,
     "metadata": {},
     "output_type": "execute_result"
    }
   ],
   "source": [
    "df1 = df1.dropna()\n",
    "df1.shape"
   ]
  },
  {
   "cell_type": "markdown",
   "metadata": {},
   "source": [
    "### Volvemos a observar el porcentaje de nulos"
   ]
  },
  {
   "cell_type": "code",
   "execution_count": 11,
   "metadata": {},
   "outputs": [
    {
     "data": {
      "text/plain": [
       "id                             0.0\n",
       "approval_amount                0.0\n",
       "recommendation                 0.0\n",
       "redeem_ts                      0.0\n",
       "contacted                      0.0\n",
       "email_contacted_ts             0.0\n",
       "sms_contacted_ts               0.0\n",
       "birth_dt                       0.0\n",
       "state                          0.0\n",
       "city                           0.0\n",
       "zip_code                       0.0\n",
       "rent_or_own                    0.0\n",
       "months_at_current_residence    0.0\n",
       "years_at_current_residence     0.0\n",
       "direct_deposit                 0.0\n",
       "black_listed                   0.0\n",
       "language_preference            0.0\n",
       "military_applicant             0.0\n",
       "payment_frequency              0.0\n",
       "scheduled_payment_amt          0.0\n",
       "past_due_amt                   0.0\n",
       "account_payment_method         0.0\n",
       "days_past_due                  0.0\n",
       "number_of_payments             0.0\n",
       "data_correction                0.0\n",
       "merchant_id                    0.0\n",
       "source                         0.0\n",
       "initial_decision               0.0\n",
       "dtype: float64"
      ]
     },
     "execution_count": 11,
     "metadata": {},
     "output_type": "execute_result"
    }
   ],
   "source": [
    "df1.isna().mean().round(4)"
   ]
  },
  {
   "cell_type": "markdown",
   "metadata": {},
   "source": [
    "Por lo tanto en este momento el dataset queda sin valores nulos"
   ]
  },
  {
   "cell_type": "markdown",
   "metadata": {},
   "source": [
    "### Se borran columnas que son que algún tipo de ID\n",
    "\n",
    "Dichas  columnas no presentan valor para los algoritmos de clasificación, que contienen un ID unico para cada columna"
   ]
  },
  {
   "cell_type": "code",
   "execution_count": 12,
   "metadata": {},
   "outputs": [],
   "source": [
    "df1 = df1.drop(columns=['merchant_id','id'])"
   ]
  },
  {
   "cell_type": "code",
   "execution_count": 13,
   "metadata": {},
   "outputs": [
    {
     "data": {
      "text/plain": [
       "(6093, 26)"
      ]
     },
     "execution_count": 13,
     "metadata": {},
     "output_type": "execute_result"
    }
   ],
   "source": [
    "df1.shape"
   ]
  },
  {
   "cell_type": "markdown",
   "metadata": {},
   "source": [
    "Por lo tanto se han descartado u total de 5 variables y borrado todo los datos nulos"
   ]
  },
  {
   "cell_type": "markdown",
   "metadata": {},
   "source": [
    "### Conclusión de preselección y limpieza de datos\n",
    "\n",
    "Al terminar esta sección de limpieza de datos se identifican variables con alto porcentaje de datos nulos donde  es mejor eliminarlas ya que possen mas de un 40% de valores nulos.\n",
    "\n",
    "Por otra parte existen columnas que son ID para cada fila, estas columnas tambien son borradas ya que no presenta un valor  para los algoritmos de machine learning."
   ]
  },
  {
   "cell_type": "markdown",
   "metadata": {},
   "source": [
    "## Transformaciones aplicadas a los datos"
   ]
  },
  {
   "cell_type": "markdown",
   "metadata": {},
   "source": [
    "### Transformación de datos categoricos con un ordinal encoder\n",
    "\n",
    "Para probar el random forest para detectar las variables mas importantes, tranfomaremos las variables categoricas de forma ordinal, ya que los desicion trees no se ven tan afectados por datos categoricos que son transformados por esta forma."
   ]
  },
  {
   "cell_type": "markdown",
   "metadata": {},
   "source": [
    "Los datos categoricos a transformar son:\n",
    "\n",
    "\n",
    "redeem_ts\n",
    "\n",
    "contacted\n",
    "\n",
    "email_contacted_ts\n",
    "\n",
    "sms_contacted_ts\n",
    "\n",
    "state\n",
    "\n",
    "city\n",
    "\n",
    "payment_frequency\n",
    "\n",
    "rent_or_own\n",
    "\n",
    "account_payment_method\n",
    "\n",
    "data_correction\n",
    "\n",
    "source\n",
    "\n",
    "initial_decision\n",
    "\n",
    "direct_deposit\n",
    "\n",
    "language_preference\n",
    "\n",
    "recomendation\n",
    "\n",
    "military_applicant\n",
    "\n",
    "black_listed\n"
   ]
  },
  {
   "cell_type": "code",
   "execution_count": 14,
   "metadata": {},
   "outputs": [],
   "source": [
    "from sklearn.preprocessing import LabelEncoder\n",
    "from sklearn.preprocessing import OrdinalEncoder\n",
    "\n",
    "encoder = OrdinalEncoder()\n",
    "df1.redeem_ts = encoder.fit_transform(df1.redeem_ts.values.reshape(-1, 1))\n",
    "df1.contacted = encoder.fit_transform(df1.contacted.values.reshape(-1, 1))\n",
    "df1.email_contacted_ts = encoder.fit_transform(df1.email_contacted_ts.values.reshape(-1, 1))\n",
    "df1.sms_contacted_ts = encoder.fit_transform(df1.sms_contacted_ts.values.reshape(-1, 1))\n",
    "df1.state = encoder.fit_transform(df1.state.values.reshape(-1, 1))\n",
    "df1.city = encoder.fit_transform(df1.city.values.reshape(-1, 1))\n",
    "df1.payment_frequency = encoder.fit_transform(df1.payment_frequency.values.reshape(-1, 1))\n",
    "df1.rent_or_own = encoder.fit_transform(df1.rent_or_own.values.reshape(-1, 1))\n",
    "df1.account_payment_method = encoder.fit_transform(df1.account_payment_method.values.reshape(-1, 1))\n",
    "df1.data_correction = encoder.fit_transform(df1.data_correction.values.reshape(-1, 1))\n",
    "df1.source = encoder.fit_transform(df1.source.values.reshape(-1, 1))\n",
    "df1.initial_decision = encoder.fit_transform(df1.initial_decision.values.reshape(-1, 1))\n",
    "df1.direct_deposit = encoder.fit_transform(df1.direct_deposit.values.reshape(-1, 1))\n",
    "df1.language_preference = encoder.fit_transform(df1.language_preference.values.reshape(-1, 1))\n",
    "df1.recommendation = encoder.fit_transform(df1.recommendation.values.reshape(-1, 1))\n",
    "df1.military_applicant = encoder.fit_transform(df1.military_applicant.values.reshape(-1, 1))\n",
    "df1.black_listed = encoder.fit_transform(df1.black_listed.values.reshape(-1, 1))"
   ]
  },
  {
   "cell_type": "code",
   "execution_count": 15,
   "metadata": {},
   "outputs": [
    {
     "data": {
      "text/html": [
       "<div>\n",
       "<style scoped>\n",
       "    .dataframe tbody tr th:only-of-type {\n",
       "        vertical-align: middle;\n",
       "    }\n",
       "\n",
       "    .dataframe tbody tr th {\n",
       "        vertical-align: top;\n",
       "    }\n",
       "\n",
       "    .dataframe thead th {\n",
       "        text-align: right;\n",
       "    }\n",
       "</style>\n",
       "<table border=\"1\" class=\"dataframe\">\n",
       "  <thead>\n",
       "    <tr style=\"text-align: right;\">\n",
       "      <th></th>\n",
       "      <th>approval_amount</th>\n",
       "      <th>recommendation</th>\n",
       "      <th>redeem_ts</th>\n",
       "      <th>contacted</th>\n",
       "      <th>email_contacted_ts</th>\n",
       "      <th>sms_contacted_ts</th>\n",
       "      <th>birth_dt</th>\n",
       "      <th>state</th>\n",
       "      <th>city</th>\n",
       "      <th>zip_code</th>\n",
       "      <th>...</th>\n",
       "      <th>military_applicant</th>\n",
       "      <th>payment_frequency</th>\n",
       "      <th>scheduled_payment_amt</th>\n",
       "      <th>past_due_amt</th>\n",
       "      <th>account_payment_method</th>\n",
       "      <th>days_past_due</th>\n",
       "      <th>number_of_payments</th>\n",
       "      <th>data_correction</th>\n",
       "      <th>source</th>\n",
       "      <th>initial_decision</th>\n",
       "    </tr>\n",
       "  </thead>\n",
       "  <tbody>\n",
       "    <tr>\n",
       "      <th>0</th>\n",
       "      <td>250.0</td>\n",
       "      <td>0.0</td>\n",
       "      <td>1.0</td>\n",
       "      <td>0.0</td>\n",
       "      <td>0.0</td>\n",
       "      <td>1.0</td>\n",
       "      <td>1988-05-21</td>\n",
       "      <td>5.0</td>\n",
       "      <td>73.0</td>\n",
       "      <td>80012</td>\n",
       "      <td>...</td>\n",
       "      <td>0.0</td>\n",
       "      <td>4.0</td>\n",
       "      <td>18.84</td>\n",
       "      <td>0.0</td>\n",
       "      <td>2.0</td>\n",
       "      <td>0</td>\n",
       "      <td>52</td>\n",
       "      <td>0.0</td>\n",
       "      <td>2.0</td>\n",
       "      <td>0.0</td>\n",
       "    </tr>\n",
       "    <tr>\n",
       "      <th>1</th>\n",
       "      <td>80.0</td>\n",
       "      <td>0.0</td>\n",
       "      <td>1.0</td>\n",
       "      <td>0.0</td>\n",
       "      <td>1.0</td>\n",
       "      <td>0.0</td>\n",
       "      <td>1998-01-13</td>\n",
       "      <td>41.0</td>\n",
       "      <td>1590.0</td>\n",
       "      <td>76086</td>\n",
       "      <td>...</td>\n",
       "      <td>0.0</td>\n",
       "      <td>0.0</td>\n",
       "      <td>32.88</td>\n",
       "      <td>0.0</td>\n",
       "      <td>2.0</td>\n",
       "      <td>0</td>\n",
       "      <td>26</td>\n",
       "      <td>0.0</td>\n",
       "      <td>0.0</td>\n",
       "      <td>0.0</td>\n",
       "    </tr>\n",
       "    <tr>\n",
       "      <th>2</th>\n",
       "      <td>956.0</td>\n",
       "      <td>0.0</td>\n",
       "      <td>1.0</td>\n",
       "      <td>0.0</td>\n",
       "      <td>1.0</td>\n",
       "      <td>1.0</td>\n",
       "      <td>1975-12-09</td>\n",
       "      <td>45.0</td>\n",
       "      <td>1086.0</td>\n",
       "      <td>99344</td>\n",
       "      <td>...</td>\n",
       "      <td>0.0</td>\n",
       "      <td>1.0</td>\n",
       "      <td>423.50</td>\n",
       "      <td>0.0</td>\n",
       "      <td>2.0</td>\n",
       "      <td>0</td>\n",
       "      <td>12</td>\n",
       "      <td>0.0</td>\n",
       "      <td>2.0</td>\n",
       "      <td>0.0</td>\n",
       "    </tr>\n",
       "    <tr>\n",
       "      <th>3</th>\n",
       "      <td>9.0</td>\n",
       "      <td>0.0</td>\n",
       "      <td>1.0</td>\n",
       "      <td>0.0</td>\n",
       "      <td>0.0</td>\n",
       "      <td>1.0</td>\n",
       "      <td>1985-09-09</td>\n",
       "      <td>4.0</td>\n",
       "      <td>684.0</td>\n",
       "      <td>92251</td>\n",
       "      <td>...</td>\n",
       "      <td>0.0</td>\n",
       "      <td>0.0</td>\n",
       "      <td>18.15</td>\n",
       "      <td>0.0</td>\n",
       "      <td>2.0</td>\n",
       "      <td>0</td>\n",
       "      <td>26</td>\n",
       "      <td>0.0</td>\n",
       "      <td>2.0</td>\n",
       "      <td>0.0</td>\n",
       "    </tr>\n",
       "    <tr>\n",
       "      <th>4</th>\n",
       "      <td>250.0</td>\n",
       "      <td>0.0</td>\n",
       "      <td>1.0</td>\n",
       "      <td>0.0</td>\n",
       "      <td>1.0</td>\n",
       "      <td>1.0</td>\n",
       "      <td>1980-11-23</td>\n",
       "      <td>33.0</td>\n",
       "      <td>264.0</td>\n",
       "      <td>44105</td>\n",
       "      <td>...</td>\n",
       "      <td>0.0</td>\n",
       "      <td>0.0</td>\n",
       "      <td>87.73</td>\n",
       "      <td>0.0</td>\n",
       "      <td>2.0</td>\n",
       "      <td>0</td>\n",
       "      <td>26</td>\n",
       "      <td>0.0</td>\n",
       "      <td>2.0</td>\n",
       "      <td>0.0</td>\n",
       "    </tr>\n",
       "  </tbody>\n",
       "</table>\n",
       "<p>5 rows × 26 columns</p>\n",
       "</div>"
      ],
      "text/plain": [
       "   approval_amount  recommendation  redeem_ts  contacted  email_contacted_ts  \\\n",
       "0            250.0             0.0        1.0        0.0                 0.0   \n",
       "1             80.0             0.0        1.0        0.0                 1.0   \n",
       "2            956.0             0.0        1.0        0.0                 1.0   \n",
       "3              9.0             0.0        1.0        0.0                 0.0   \n",
       "4            250.0             0.0        1.0        0.0                 1.0   \n",
       "\n",
       "   sms_contacted_ts    birth_dt  state    city  zip_code        ...         \\\n",
       "0               1.0  1988-05-21    5.0    73.0     80012        ...          \n",
       "1               0.0  1998-01-13   41.0  1590.0     76086        ...          \n",
       "2               1.0  1975-12-09   45.0  1086.0     99344        ...          \n",
       "3               1.0  1985-09-09    4.0   684.0     92251        ...          \n",
       "4               1.0  1980-11-23   33.0   264.0     44105        ...          \n",
       "\n",
       "   military_applicant  payment_frequency  scheduled_payment_amt  past_due_amt  \\\n",
       "0                 0.0                4.0                  18.84           0.0   \n",
       "1                 0.0                0.0                  32.88           0.0   \n",
       "2                 0.0                1.0                 423.50           0.0   \n",
       "3                 0.0                0.0                  18.15           0.0   \n",
       "4                 0.0                0.0                  87.73           0.0   \n",
       "\n",
       "   account_payment_method  days_past_due  number_of_payments  data_correction  \\\n",
       "0                     2.0              0                  52              0.0   \n",
       "1                     2.0              0                  26              0.0   \n",
       "2                     2.0              0                  12              0.0   \n",
       "3                     2.0              0                  26              0.0   \n",
       "4                     2.0              0                  26              0.0   \n",
       "\n",
       "   source  initial_decision  \n",
       "0     2.0               0.0  \n",
       "1     0.0               0.0  \n",
       "2     2.0               0.0  \n",
       "3     2.0               0.0  \n",
       "4     2.0               0.0  \n",
       "\n",
       "[5 rows x 26 columns]"
      ]
     },
     "execution_count": 15,
     "metadata": {},
     "output_type": "execute_result"
    }
   ],
   "source": [
    "df1.head()"
   ]
  },
  {
   "cell_type": "markdown",
   "metadata": {},
   "source": [
    "## Construcción de nuevos datos (atributos)"
   ]
  },
  {
   "cell_type": "markdown",
   "metadata": {},
   "source": [
    "Para este caso vamos a construir una nueva variable age, apartir de la variable birth_dt, por lo tanto seria un nuevo atributo."
   ]
  },
  {
   "cell_type": "code",
   "execution_count": 17,
   "metadata": {},
   "outputs": [],
   "source": [
    "now = pd.Timestamp('now')\n",
    "df1['birth_dt'] = pd.to_datetime(df1['birth_dt'])   \n",
    "df1['age'] = (now - df1['birth_dt']).astype('<m8[Y]') \n",
    "df1 = df1.drop(columns=['birth_dt'])"
   ]
  },
  {
   "cell_type": "code",
   "execution_count": 18,
   "metadata": {},
   "outputs": [
    {
     "data": {
      "text/plain": [
       "0    31.0\n",
       "1    22.0\n",
       "2    44.0\n",
       "3    34.0\n",
       "4    39.0\n",
       "Name: age, dtype: float64"
      ]
     },
     "execution_count": 18,
     "metadata": {},
     "output_type": "execute_result"
    }
   ],
   "source": [
    "df1.age.head()"
   ]
  },
  {
   "cell_type": "markdown",
   "metadata": {},
   "source": [
    "## Selección de los datos"
   ]
  },
  {
   "cell_type": "markdown",
   "metadata": {},
   "source": [
    "Para la selección final de datos vamos a aplicar un random forest el cual no permite escoger por medio de un nivel de importancia los atributos que mas no favorecen a la hora entrenar los algoritmos de predicción"
   ]
  },
  {
   "cell_type": "markdown",
   "metadata": {},
   "source": [
    "### Balanceo de datos"
   ]
  },
  {
   "cell_type": "markdown",
   "metadata": {},
   "source": [
    "En nuestro caso la columna **redeem_ts** viene siendo nuestro label para aplicar la clasificación, por lo tanto se realiza un balance entre cuendo se realizo oferta y no se realizo oferta."
   ]
  },
  {
   "cell_type": "markdown",
   "metadata": {},
   "source": [
    "Se convierte la columna **redeem_ts** en one hot coding"
   ]
  },
  {
   "cell_type": "code",
   "execution_count": 21,
   "metadata": {},
   "outputs": [],
   "source": [
    "redeem = df1[(df1['redeem_ts'] == 1)]\n",
    "noRedeem = df1[(df1['redeem_ts'] == 0)]"
   ]
  },
  {
   "cell_type": "code",
   "execution_count": 22,
   "metadata": {},
   "outputs": [
    {
     "name": "stdout",
     "output_type": "stream",
     "text": [
      "(2595, 26) (3498, 26)\n"
     ]
    }
   ],
   "source": [
    "print(redeem.shape,noRedeem.shape)"
   ]
  },
  {
   "cell_type": "markdown",
   "metadata": {},
   "source": [
    "Al observar los datos se puede ver que existen más datos de no oferta a oferta, por lo cual se escogen 2595 filas de no oferta para realizar un correcto balance"
   ]
  },
  {
   "cell_type": "code",
   "execution_count": 23,
   "metadata": {},
   "outputs": [],
   "source": [
    "dfBalanceado = pd.concat([redeem,noRedeem.sample(redeem.shape[0])])"
   ]
  },
  {
   "cell_type": "markdown",
   "metadata": {},
   "source": [
    "### Probamos la extracción de los variables mas importantes utilizando el random forest"
   ]
  },
  {
   "cell_type": "markdown",
   "metadata": {},
   "source": [
    " Se separan los features y labels"
   ]
  },
  {
   "cell_type": "code",
   "execution_count": 24,
   "metadata": {},
   "outputs": [],
   "source": [
    "labels = df1['redeem_ts']\n",
    "features = df1.drop(columns=['redeem_ts'])"
   ]
  },
  {
   "cell_type": "markdown",
   "metadata": {},
   "source": [
    "Se separan los datos de entrenamiento para el random forest"
   ]
  },
  {
   "cell_type": "code",
   "execution_count": 26,
   "metadata": {},
   "outputs": [],
   "source": [
    "from sklearn.model_selection import train_test_split\n",
    "X_train, X_test, y_train, y_test = train_test_split(features,labels,test_size=0.15,random_state=13)"
   ]
  },
  {
   "cell_type": "markdown",
   "metadata": {},
   "source": [
    "Se presenta una configuración recomenda para dicha tarea, mas adelante en la fase de modelado se aplicara una mejor escogencia de parámetros para este mismo algoritmo."
   ]
  },
  {
   "cell_type": "code",
   "execution_count": 27,
   "metadata": {},
   "outputs": [
    {
     "data": {
      "text/plain": [
       "RandomForestClassifier(bootstrap=True, ccp_alpha=0.0, class_weight=None,\n",
       "                       criterion='gini', max_depth=None, max_features='auto',\n",
       "                       max_leaf_nodes=None, max_samples=None,\n",
       "                       min_impurity_decrease=0.0, min_impurity_split=None,\n",
       "                       min_samples_leaf=3, min_samples_split=20,\n",
       "                       min_weight_fraction_leaf=0.0, n_estimators=500,\n",
       "                       n_jobs=None, oob_score=False, random_state=10, verbose=0,\n",
       "                       warm_start=False)"
      ]
     },
     "execution_count": 27,
     "metadata": {},
     "output_type": "execute_result"
    }
   ],
   "source": [
    "from sklearn.ensemble import RandomForestClassifier\n",
    "RandomForestModel = RandomForestClassifier(min_samples_leaf=3,min_samples_split=20,n_estimators=500, max_depth= None, random_state=10)\n",
    "RandomForestModel.fit(X_train, y_train)"
   ]
  },
  {
   "cell_type": "markdown",
   "metadata": {},
   "source": [
    "#### Realizamos el análisis para obtener las variables mas importantes"
   ]
  },
  {
   "cell_type": "code",
   "execution_count": 28,
   "metadata": {},
   "outputs": [],
   "source": [
    "importances = pd.DataFrame({'feature' :features.columns, 'importance':RandomForestModel.feature_importances_})"
   ]
  },
  {
   "cell_type": "code",
   "execution_count": 29,
   "metadata": {},
   "outputs": [
    {
     "data": {
      "text/html": [
       "<div>\n",
       "<style scoped>\n",
       "    .dataframe tbody tr th:only-of-type {\n",
       "        vertical-align: middle;\n",
       "    }\n",
       "\n",
       "    .dataframe tbody tr th {\n",
       "        vertical-align: top;\n",
       "    }\n",
       "\n",
       "    .dataframe thead th {\n",
       "        text-align: right;\n",
       "    }\n",
       "</style>\n",
       "<table border=\"1\" class=\"dataframe\">\n",
       "  <thead>\n",
       "    <tr style=\"text-align: right;\">\n",
       "      <th></th>\n",
       "      <th>importance</th>\n",
       "    </tr>\n",
       "    <tr>\n",
       "      <th>feature</th>\n",
       "      <th></th>\n",
       "    </tr>\n",
       "  </thead>\n",
       "  <tbody>\n",
       "    <tr>\n",
       "      <th>account_payment_method</th>\n",
       "      <td>0.224321</td>\n",
       "    </tr>\n",
       "    <tr>\n",
       "      <th>approval_amount</th>\n",
       "      <td>0.188819</td>\n",
       "    </tr>\n",
       "    <tr>\n",
       "      <th>scheduled_payment_amt</th>\n",
       "      <td>0.083982</td>\n",
       "    </tr>\n",
       "    <tr>\n",
       "      <th>days_past_due</th>\n",
       "      <td>0.064521</td>\n",
       "    </tr>\n",
       "    <tr>\n",
       "      <th>zip_code</th>\n",
       "      <td>0.058695</td>\n",
       "    </tr>\n",
       "    <tr>\n",
       "      <th>age</th>\n",
       "      <td>0.056809</td>\n",
       "    </tr>\n",
       "    <tr>\n",
       "      <th>past_due_amt</th>\n",
       "      <td>0.055592</td>\n",
       "    </tr>\n",
       "    <tr>\n",
       "      <th>city</th>\n",
       "      <td>0.055350</td>\n",
       "    </tr>\n",
       "    <tr>\n",
       "      <th>sms_contacted_ts</th>\n",
       "      <td>0.038639</td>\n",
       "    </tr>\n",
       "    <tr>\n",
       "      <th>state</th>\n",
       "      <td>0.033293</td>\n",
       "    </tr>\n",
       "    <tr>\n",
       "      <th>years_at_current_residence</th>\n",
       "      <td>0.031959</td>\n",
       "    </tr>\n",
       "    <tr>\n",
       "      <th>months_at_current_residence</th>\n",
       "      <td>0.023558</td>\n",
       "    </tr>\n",
       "    <tr>\n",
       "      <th>source</th>\n",
       "      <td>0.019083</td>\n",
       "    </tr>\n",
       "    <tr>\n",
       "      <th>email_contacted_ts</th>\n",
       "      <td>0.016261</td>\n",
       "    </tr>\n",
       "    <tr>\n",
       "      <th>payment_frequency</th>\n",
       "      <td>0.015773</td>\n",
       "    </tr>\n",
       "    <tr>\n",
       "      <th>number_of_payments</th>\n",
       "      <td>0.014557</td>\n",
       "    </tr>\n",
       "    <tr>\n",
       "      <th>rent_or_own</th>\n",
       "      <td>0.007484</td>\n",
       "    </tr>\n",
       "    <tr>\n",
       "      <th>initial_decision</th>\n",
       "      <td>0.005961</td>\n",
       "    </tr>\n",
       "    <tr>\n",
       "      <th>language_preference</th>\n",
       "      <td>0.004128</td>\n",
       "    </tr>\n",
       "    <tr>\n",
       "      <th>contacted</th>\n",
       "      <td>0.000663</td>\n",
       "    </tr>\n",
       "    <tr>\n",
       "      <th>data_correction</th>\n",
       "      <td>0.000315</td>\n",
       "    </tr>\n",
       "    <tr>\n",
       "      <th>black_listed</th>\n",
       "      <td>0.000161</td>\n",
       "    </tr>\n",
       "    <tr>\n",
       "      <th>direct_deposit</th>\n",
       "      <td>0.000074</td>\n",
       "    </tr>\n",
       "    <tr>\n",
       "      <th>military_applicant</th>\n",
       "      <td>0.000000</td>\n",
       "    </tr>\n",
       "    <tr>\n",
       "      <th>recommendation</th>\n",
       "      <td>0.000000</td>\n",
       "    </tr>\n",
       "  </tbody>\n",
       "</table>\n",
       "</div>"
      ],
      "text/plain": [
       "                             importance\n",
       "feature                                \n",
       "account_payment_method         0.224321\n",
       "approval_amount                0.188819\n",
       "scheduled_payment_amt          0.083982\n",
       "days_past_due                  0.064521\n",
       "zip_code                       0.058695\n",
       "age                            0.056809\n",
       "past_due_amt                   0.055592\n",
       "city                           0.055350\n",
       "sms_contacted_ts               0.038639\n",
       "state                          0.033293\n",
       "years_at_current_residence     0.031959\n",
       "months_at_current_residence    0.023558\n",
       "source                         0.019083\n",
       "email_contacted_ts             0.016261\n",
       "payment_frequency              0.015773\n",
       "number_of_payments             0.014557\n",
       "rent_or_own                    0.007484\n",
       "initial_decision               0.005961\n",
       "language_preference            0.004128\n",
       "contacted                      0.000663\n",
       "data_correction                0.000315\n",
       "black_listed                   0.000161\n",
       "direct_deposit                 0.000074\n",
       "military_applicant             0.000000\n",
       "recommendation                 0.000000"
      ]
     },
     "execution_count": 29,
     "metadata": {},
     "output_type": "execute_result"
    }
   ],
   "source": [
    "importances = importances.sort_values('importance', ascending = False).set_index('feature')\n",
    "importances"
   ]
  },
  {
   "cell_type": "markdown",
   "metadata": {},
   "source": [
    "Por lo tanto de acuerdo al análisis del random forest se puede observar que los datos mas impotantes que presentan almenos un 1% del total de importancia: "
   ]
  },
  {
   "cell_type": "code",
   "execution_count": 30,
   "metadata": {},
   "outputs": [
    {
     "data": {
      "text/plain": [
       "Index(['account_payment_method', 'approval_amount', 'scheduled_payment_amt',\n",
       "       'days_past_due', 'zip_code', 'age', 'past_due_amt', 'city',\n",
       "       'sms_contacted_ts', 'state', 'years_at_current_residence',\n",
       "       'months_at_current_residence', 'source', 'email_contacted_ts',\n",
       "       'payment_frequency', 'number_of_payments'],\n",
       "      dtype='object', name='feature')"
      ]
     },
     "execution_count": 30,
     "metadata": {},
     "output_type": "execute_result"
    }
   ],
   "source": [
    "importances.index[:16]"
   ]
  },
  {
   "cell_type": "code",
   "execution_count": null,
   "metadata": {},
   "outputs": [],
   "source": []
  }
 ],
 "metadata": {
  "kernelspec": {
   "display_name": "Python 3",
   "language": "python",
   "name": "python3"
  },
  "language_info": {
   "codemirror_mode": {
    "name": "ipython",
    "version": 3
   },
   "file_extension": ".py",
   "mimetype": "text/x-python",
   "name": "python",
   "nbconvert_exporter": "python",
   "pygments_lexer": "ipython3",
   "version": "3.6.4"
  }
 },
 "nbformat": 4,
 "nbformat_minor": 2
}
