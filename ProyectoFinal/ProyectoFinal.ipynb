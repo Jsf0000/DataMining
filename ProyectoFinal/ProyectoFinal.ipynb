{
 "cells": [
  {
   "cell_type": "markdown",
   "metadata": {},
   "source": [
    "# Portada\n",
    "\n",
    "### Estudiantes:\n",
    "\n",
    "    Jason Solano \n",
    "\n",
    "    Percy herrara\n",
    "### Curso\n",
    "    Inteligencia de negocios y mineria de datos\n",
    "### Trabajo\n",
    "    Projecto Final "
   ]
  },
  {
   "cell_type": "markdown",
   "metadata": {},
   "source": [
    "# Fase de Entendimiento del negocio"
   ]
  },
  {
   "cell_type": "markdown",
   "metadata": {},
   "source": [
    "## Objetivos del negocio"
   ]
  },
  {
   "cell_type": "markdown",
   "metadata": {},
   "source": [
    "- Facilitar el pronóstico de cuentas que pueden ser incobrables a un largo plazo para poder establecer un arreglo de pago para realizar una liquidación adecuada de la cuenta.\n",
    "\n",
    "\n",
    "- Poder ofrecer una herramienta para el diseño robusto de campañas de cobro de carteras de crédito, las cuales pueden estar conformadas con cuentas que pueden ser incobrables.\n"
   ]
  },
  {
   "cell_type": "markdown",
   "metadata": {},
   "source": [
    "## Criterios de éxito en términos de negocio"
   ]
  },
  {
   "cell_type": "markdown",
   "metadata": {},
   "source": [
    "- Lograr la identificación exitosa de cuentas que pueden ser incobrables para una entidad financiera, reduciendo la cantidad de cuentas incobrables al menos en 30% de acuerdo a los datos históricos de la entidad financiero.\n",
    "\n",
    "\n",
    "- Mostrar a las entidades financieros cuales son los atributos de los clientes  que lo puede llevar a ser una cuenta incobrable para poder facilitar la estadística descriptiva de la entidad financiera."
   ]
  },
  {
   "cell_type": "markdown",
   "metadata": {},
   "source": [
    "## Objetivos de minería de datos"
   ]
  },
  {
   "cell_type": "markdown",
   "metadata": {},
   "source": [
    "- Identificar por medio de modelos de predicción potenciales cuentas que puedan ser incobrables en un futuro, para ofrecer una liquidación por medio de un arreglo de pago.\n",
    "\n",
    "- Identificar cuales son los atributos que más influyen para determinar si una cuenta se le debe realizar la oferta de liquidación debido a que  es catalogada como incobrabl\n"
   ]
  },
  {
   "cell_type": "markdown",
   "metadata": {},
   "source": [
    "## Criterios de éxito para la minería de datos"
   ]
  },
  {
   "cell_type": "markdown",
   "metadata": {},
   "source": [
    "- Obtener al menos un modelo que presente un accuracy (métrica de precisión para exactitud) mayor a un 70% con la utilización de datos externos a los utilizados en el entrenamiento.\n",
    "\n",
    "- Optimizar con diferentes parámetros al menos tres modelos utilizados para la predicción en la categoría de clasificación binaria.\n"
   ]
  },
  {
   "cell_type": "markdown",
   "metadata": {},
   "source": [
    "# Fase de Entendimiento de los datos"
   ]
  },
  {
   "cell_type": "markdown",
   "metadata": {},
   "source": [
    "## Descripción de los datos"
   ]
  },
  {
   "cell_type": "markdown",
   "metadata": {},
   "source": [
    "### Información del conjunto de datos\n",
    "\n",
    "\n",
    "El conjunto de datos es sobre información de campaña de recoleccion de dineros de cuentas en mora, es la informacion sobre clientes contactados, con una oferta concreta para cerrar su cuenta en mora por un monto inferior al actual.\n",
    "\n",
    "El conjunto de datos esta separado por dos archivos CSV, los cuales vamos a unir"
   ]
  },
  {
   "cell_type": "code",
   "execution_count": 1,
   "metadata": {},
   "outputs": [
    {
     "name": "stdout",
     "output_type": "stream",
     "text": [
      "(2595, 31)\n"
     ]
    },
    {
     "data": {
      "text/html": [
       "<div>\n",
       "<style scoped>\n",
       "    .dataframe tbody tr th:only-of-type {\n",
       "        vertical-align: middle;\n",
       "    }\n",
       "\n",
       "    .dataframe tbody tr th {\n",
       "        vertical-align: top;\n",
       "    }\n",
       "\n",
       "    .dataframe thead th {\n",
       "        text-align: right;\n",
       "    }\n",
       "</style>\n",
       "<table border=\"1\" class=\"dataframe\">\n",
       "  <thead>\n",
       "    <tr style=\"text-align: right;\">\n",
       "      <th></th>\n",
       "      <th>id</th>\n",
       "      <th>approval_amount</th>\n",
       "      <th>recommendation</th>\n",
       "      <th>redeem_ts</th>\n",
       "      <th>contacted</th>\n",
       "      <th>email_contacted_ts</th>\n",
       "      <th>sms_contacted_ts</th>\n",
       "      <th>birth_dt</th>\n",
       "      <th>state</th>\n",
       "      <th>city</th>\n",
       "      <th>...</th>\n",
       "      <th>account_payment_method</th>\n",
       "      <th>collections_category</th>\n",
       "      <th>days_past_due</th>\n",
       "      <th>number_of_payments</th>\n",
       "      <th>amount_financed</th>\n",
       "      <th>data_correction</th>\n",
       "      <th>merchant_id</th>\n",
       "      <th>source</th>\n",
       "      <th>initial_decision</th>\n",
       "      <th>last_payment_amount</th>\n",
       "    </tr>\n",
       "  </thead>\n",
       "  <tbody>\n",
       "    <tr>\n",
       "      <th>0</th>\n",
       "      <td>503603788</td>\n",
       "      <td>250.0</td>\n",
       "      <td>APPROVE</td>\n",
       "      <td>2019-01-24 09:50:41.115000</td>\n",
       "      <td>False</td>\n",
       "      <td>NaN</td>\n",
       "      <td>2019-01-24 09:36:27.784000</td>\n",
       "      <td>1988-05-21</td>\n",
       "      <td>CO</td>\n",
       "      <td>Aurora</td>\n",
       "      <td>...</td>\n",
       "      <td>MANUAL</td>\n",
       "      <td>NaN</td>\n",
       "      <td>0</td>\n",
       "      <td>52</td>\n",
       "      <td>NaN</td>\n",
       "      <td>False</td>\n",
       "      <td>14206566</td>\n",
       "      <td>MERCHANT</td>\n",
       "      <td>APPROVED</td>\n",
       "      <td>70.34</td>\n",
       "    </tr>\n",
       "    <tr>\n",
       "      <th>1</th>\n",
       "      <td>399999590</td>\n",
       "      <td>80.0</td>\n",
       "      <td>APPROVE</td>\n",
       "      <td>2019-01-24 17:34:47.768000</td>\n",
       "      <td>False</td>\n",
       "      <td>2019-01-24 12:16:54.626000</td>\n",
       "      <td>NaN</td>\n",
       "      <td>1998-01-13</td>\n",
       "      <td>TX</td>\n",
       "      <td>Weatherford</td>\n",
       "      <td>...</td>\n",
       "      <td>MANUAL</td>\n",
       "      <td>NaN</td>\n",
       "      <td>0</td>\n",
       "      <td>26</td>\n",
       "      <td>0.0</td>\n",
       "      <td>False</td>\n",
       "      <td>107313386</td>\n",
       "      <td>INTERNET</td>\n",
       "      <td>APPROVED</td>\n",
       "      <td>NaN</td>\n",
       "    </tr>\n",
       "    <tr>\n",
       "      <th>2</th>\n",
       "      <td>330633304</td>\n",
       "      <td>956.0</td>\n",
       "      <td>APPROVE</td>\n",
       "      <td>2019-01-24 18:18:53.120000</td>\n",
       "      <td>False</td>\n",
       "      <td>2019-01-24 13:17:29.359000</td>\n",
       "      <td>2019-01-24 13:15:59.087000</td>\n",
       "      <td>1975-12-09</td>\n",
       "      <td>WA</td>\n",
       "      <td>Othello</td>\n",
       "      <td>...</td>\n",
       "      <td>MANUAL</td>\n",
       "      <td>NaN</td>\n",
       "      <td>0</td>\n",
       "      <td>12</td>\n",
       "      <td>0.0</td>\n",
       "      <td>False</td>\n",
       "      <td>230266536</td>\n",
       "      <td>MERCHANT</td>\n",
       "      <td>APPROVED</td>\n",
       "      <td>NaN</td>\n",
       "    </tr>\n",
       "    <tr>\n",
       "      <th>3</th>\n",
       "      <td>422247835</td>\n",
       "      <td>9.0</td>\n",
       "      <td>APPROVE</td>\n",
       "      <td>2019-01-24 18:36:06.694000</td>\n",
       "      <td>False</td>\n",
       "      <td>NaN</td>\n",
       "      <td>2019-01-24 13:19:17.988000</td>\n",
       "      <td>1985-09-09</td>\n",
       "      <td>CA</td>\n",
       "      <td>Imperial</td>\n",
       "      <td>...</td>\n",
       "      <td>MANUAL</td>\n",
       "      <td>NaN</td>\n",
       "      <td>0</td>\n",
       "      <td>26</td>\n",
       "      <td>0.0</td>\n",
       "      <td>False</td>\n",
       "      <td>332752404</td>\n",
       "      <td>MERCHANT</td>\n",
       "      <td>APPROVED</td>\n",
       "      <td>NaN</td>\n",
       "    </tr>\n",
       "    <tr>\n",
       "      <th>4</th>\n",
       "      <td>427183074</td>\n",
       "      <td>250.0</td>\n",
       "      <td>APPROVE</td>\n",
       "      <td>2019-01-25 08:47:49.726000</td>\n",
       "      <td>False</td>\n",
       "      <td>2019-01-24 09:08:46.690000</td>\n",
       "      <td>2019-01-24 09:08:20.447000</td>\n",
       "      <td>1980-11-23</td>\n",
       "      <td>OH</td>\n",
       "      <td>Cleveland</td>\n",
       "      <td>...</td>\n",
       "      <td>MANUAL</td>\n",
       "      <td>NaN</td>\n",
       "      <td>0</td>\n",
       "      <td>26</td>\n",
       "      <td>0.0</td>\n",
       "      <td>False</td>\n",
       "      <td>358414568</td>\n",
       "      <td>MERCHANT</td>\n",
       "      <td>APPROVED</td>\n",
       "      <td>NaN</td>\n",
       "    </tr>\n",
       "  </tbody>\n",
       "</table>\n",
       "<p>5 rows × 31 columns</p>\n",
       "</div>"
      ],
      "text/plain": [
       "          id  approval_amount recommendation                   redeem_ts  \\\n",
       "0  503603788            250.0        APPROVE  2019-01-24 09:50:41.115000   \n",
       "1  399999590             80.0        APPROVE  2019-01-24 17:34:47.768000   \n",
       "2  330633304            956.0        APPROVE  2019-01-24 18:18:53.120000   \n",
       "3  422247835              9.0        APPROVE  2019-01-24 18:36:06.694000   \n",
       "4  427183074            250.0        APPROVE  2019-01-25 08:47:49.726000   \n",
       "\n",
       "   contacted          email_contacted_ts            sms_contacted_ts  \\\n",
       "0      False                         NaN  2019-01-24 09:36:27.784000   \n",
       "1      False  2019-01-24 12:16:54.626000                         NaN   \n",
       "2      False  2019-01-24 13:17:29.359000  2019-01-24 13:15:59.087000   \n",
       "3      False                         NaN  2019-01-24 13:19:17.988000   \n",
       "4      False  2019-01-24 09:08:46.690000  2019-01-24 09:08:20.447000   \n",
       "\n",
       "     birth_dt state         city         ...           account_payment_method  \\\n",
       "0  1988-05-21    CO       Aurora         ...                           MANUAL   \n",
       "1  1998-01-13    TX  Weatherford         ...                           MANUAL   \n",
       "2  1975-12-09    WA      Othello         ...                           MANUAL   \n",
       "3  1985-09-09    CA     Imperial         ...                           MANUAL   \n",
       "4  1980-11-23    OH    Cleveland         ...                           MANUAL   \n",
       "\n",
       "  collections_category  days_past_due  number_of_payments amount_financed  \\\n",
       "0                  NaN              0                  52             NaN   \n",
       "1                  NaN              0                  26             0.0   \n",
       "2                  NaN              0                  12             0.0   \n",
       "3                  NaN              0                  26             0.0   \n",
       "4                  NaN              0                  26             0.0   \n",
       "\n",
       "   data_correction merchant_id    source initial_decision  last_payment_amount  \n",
       "0            False    14206566  MERCHANT         APPROVED                70.34  \n",
       "1            False   107313386  INTERNET         APPROVED                  NaN  \n",
       "2            False   230266536  MERCHANT         APPROVED                  NaN  \n",
       "3            False   332752404  MERCHANT         APPROVED                  NaN  \n",
       "4            False   358414568  MERCHANT         APPROVED                  NaN  \n",
       "\n",
       "[5 rows x 31 columns]"
      ]
     },
     "execution_count": 1,
     "metadata": {},
     "output_type": "execute_result"
    }
   ],
   "source": [
    "import pandas as pd\n",
    "import matplotlib.pyplot as plt\n",
    "\n",
    "df1 = pd.read_csv('proyectoF1T.csv')\n",
    "df2 = pd.read_csv('proyectoF2F.csv')\n",
    "print(df1.shape)\n",
    "df1.head()"
   ]
  },
  {
   "cell_type": "markdown",
   "metadata": {},
   "source": [
    "### Se realiza la unión de los dos datasets\n",
    "\n",
    "Por lo cual se puede ver la cantidad de registros y columnas.\n",
    "\n",
    "Cantidad Registros: 6095\n",
    "\n",
    "Cantidad de columnas: 31"
   ]
  },
  {
   "cell_type": "code",
   "execution_count": 2,
   "metadata": {},
   "outputs": [
    {
     "name": "stdout",
     "output_type": "stream",
     "text": [
      "(6095, 31)\n"
     ]
    }
   ],
   "source": [
    "df1 = df1.append(df2)\n",
    "df2 = None    \n",
    "print(df1.shape)"
   ]
  },
  {
   "cell_type": "markdown",
   "metadata": {},
   "source": [
    "### Se observan las variables del dataset"
   ]
  },
  {
   "cell_type": "code",
   "execution_count": 3,
   "metadata": {},
   "outputs": [
    {
     "data": {
      "text/plain": [
       "Index(['id', 'approval_amount', 'recommendation', 'redeem_ts', 'contacted',\n",
       "       'email_contacted_ts', 'sms_contacted_ts', 'birth_dt', 'state', 'city',\n",
       "       'zip_code', 'rent_or_own', 'months_at_current_residence',\n",
       "       'years_at_current_residence', 'direct_deposit', 'black_listed',\n",
       "       'language_preference', 'military_applicant', 'payment_frequency',\n",
       "       'scheduled_payment_amt', 'past_due_amt', 'account_payment_method',\n",
       "       'collections_category', 'days_past_due', 'number_of_payments',\n",
       "       'amount_financed', 'data_correction', 'merchant_id', 'source',\n",
       "       'initial_decision', 'last_payment_amount'],\n",
       "      dtype='object')"
      ]
     },
     "execution_count": 3,
     "metadata": {},
     "output_type": "execute_result"
    }
   ],
   "source": [
    "df1.columns"
   ]
  },
  {
   "cell_type": "markdown",
   "metadata": {},
   "source": [
    "## Explicación de las columnas"
   ]
  },
  {
   "cell_type": "markdown",
   "metadata": {},
   "source": [
    "- id\n",
    "    - Id de cada fila.\n",
    "- merchant_id\n",
    "    - Id para cada comerciante.\n",
    "- last_payment_amount\n",
    "    - La cantidad del último pago realizado.\n",
    "- birth_dt\n",
    "    - Fecha de cumpleaños de cada cliente\n",
    "- redeem_ts\n",
    "    - Personas a las cuales se les debe ofrecer la oferta de liquidación, fecha que se hizo.\n",
    "- account_payment_method\n",
    "    - Forma de pago configurada para la cuenta.\n",
    "- approval_amount\n",
    "    - Monto aprobado del préstamo.\n",
    "- scheduled_payment_amt\n",
    "    - Monto de la cuota configurada para el préstamo.\n",
    "- days_past_due\n",
    "    - Días en que acumula en mora la cuenta.\n",
    "- past_due_amt\n",
    "    - Monto que se encuentra en atraso para la cuenta.\n",
    "- zip_code\n",
    "    - Código postal del cliente al cual le pertenece la cuenta.\n",
    "- age\n",
    "    - Edad del cliente de la cuenta.\n",
    "- city\n",
    "    - Ciudad de domicilio del cliente.\n",
    "- sms_contacted_ts\n",
    "    - Fecha en que se le contactó por medio de mensaje de texto al celular.\n",
    "- state\n",
    "    - Estado de domicilio de la persona de la cuenta.\n",
    "- years_at_current_residence\n",
    "    - Años viviendo en la actual residencia.\n",
    "- months_at_current_residence\n",
    "    - Meses viviendo en la actual residencia.\n",
    "- source\n",
    "    - Fuente desde donde se genero el préstamo (Internet, Agencia, etc).\n",
    "- collections_category\n",
    "    - Columna no especificamente descripta.\n",
    "- email_contacted_ts\n",
    "    - Fecha en que se le contactó por medio de correo electrónico.\n",
    "- payment_frequency\n",
    "    - Frecuencia de pago de la cuenta.\n",
    "- number_of_payments\n",
    "    - Cantidad de pagos necesarios para cancelar la cuenta.\n",
    "- rent_or_own\n",
    "    - Es propietario de vivienda o renta.\n",
    "- initial_decision\n",
    "    - Decisión inicial al crear la cuenta (Aprobación o Denegar).\n",
    "- language_preference\n",
    "    - Lenguaje en que prefiere el cliente ser contactado (Español o Inglés).\n",
    "- contacted\n",
    "    - Si se logró contactar anteriormente.\n",
    "- data_correction\n",
    "    - Si se tuvo que corregir los datos del cliente en algún momento (True, False).\n",
    "- black_listed\n",
    "    - Si en algún momento el cliente fue incluido en lista negra por fraude.\n",
    "- direct_deposit\n",
    "    - Si la el préstamo está configurado para recibir los pagos de forma automática por depósito.\n",
    "- recommendation\n",
    "    - Recomendación que se señaló al formalizar la cuenta (Aprobar o Denegar).\n",
    "- military_applicant\n",
    "    - Si el cliente es veterano o actualmente miembro de la fuerza militar.\n"
   ]
  },
  {
   "cell_type": "markdown",
   "metadata": {},
   "source": [
    "### Tipos de datos"
   ]
  },
  {
   "cell_type": "markdown",
   "metadata": {},
   "source": [
    "    id                               int64\n",
    "\n",
    "    approval_amount                float64\n",
    "\n",
    "    recommendation                  string\n",
    "\n",
    "    redeem_ts                         date\n",
    "\n",
    "    contacted                         bool\n",
    "\n",
    "    email_contacted_ts                date\n",
    "\n",
    "    sms_contacted_ts                  date\n",
    "\n",
    "    birth_dt                          date\n",
    "\n",
    "    state                           string\n",
    "\n",
    "    city                            string\n",
    "\n",
    "    zip_code                         int64\n",
    "\n",
    "    rent_or_own                     string\n",
    "\n",
    "    months_at_current_residence      int64\n",
    "\n",
    "    years_at_current_residence       int64\n",
    "\n",
    "    direct_deposit                    bool\n",
    "\n",
    "    black_listed                      bool\n",
    "\n",
    "    language_preference             string\n",
    "\n",
    "    military_applicant                bool\n",
    "\n",
    "    payment_frequency               string\n",
    "\n",
    "    scheduled_payment_amt          float64\n",
    "\n",
    "    past_due_amt                   float64\n",
    "\n",
    "    account_payment_method          string\n",
    "\n",
    "    collections_category            string\n",
    "\n",
    "    days_past_due                    int64\n",
    "\n",
    "    number_of_payments               int64\n",
    "\n",
    "    amount_financed                float64\n",
    "\n",
    "    data_correction                   bool\n",
    "\n",
    "    merchant_id                      int64\n",
    "\n",
    "    source                          string\n",
    "\n",
    "    initial_decision                string\n",
    "\n",
    "    last_payment_amount            float64"
   ]
  },
  {
   "cell_type": "markdown",
   "metadata": {},
   "source": [
    "### Datos generales del conjunto de datos"
   ]
  },
  {
   "cell_type": "code",
   "execution_count": 6,
   "metadata": {},
   "outputs": [
    {
     "data": {
      "text/html": [
       "<div>\n",
       "<style scoped>\n",
       "    .dataframe tbody tr th:only-of-type {\n",
       "        vertical-align: middle;\n",
       "    }\n",
       "\n",
       "    .dataframe tbody tr th {\n",
       "        vertical-align: top;\n",
       "    }\n",
       "\n",
       "    .dataframe thead th {\n",
       "        text-align: right;\n",
       "    }\n",
       "</style>\n",
       "<table border=\"1\" class=\"dataframe\">\n",
       "  <thead>\n",
       "    <tr style=\"text-align: right;\">\n",
       "      <th></th>\n",
       "      <th>id</th>\n",
       "      <th>approval_amount</th>\n",
       "      <th>zip_code</th>\n",
       "      <th>months_at_current_residence</th>\n",
       "      <th>years_at_current_residence</th>\n",
       "      <th>scheduled_payment_amt</th>\n",
       "      <th>past_due_amt</th>\n",
       "      <th>days_past_due</th>\n",
       "      <th>number_of_payments</th>\n",
       "      <th>amount_financed</th>\n",
       "      <th>merchant_id</th>\n",
       "      <th>last_payment_amount</th>\n",
       "    </tr>\n",
       "  </thead>\n",
       "  <tbody>\n",
       "    <tr>\n",
       "      <th>count</th>\n",
       "      <td>6.095000e+03</td>\n",
       "      <td>6095.000000</td>\n",
       "      <td>6095.000000</td>\n",
       "      <td>6095.000000</td>\n",
       "      <td>6095.000000</td>\n",
       "      <td>6095.000000</td>\n",
       "      <td>6095.000000</td>\n",
       "      <td>6095.000000</td>\n",
       "      <td>6095.000000</td>\n",
       "      <td>2855.0</td>\n",
       "      <td>6.095000e+03</td>\n",
       "      <td>3044.000000</td>\n",
       "    </tr>\n",
       "    <tr>\n",
       "      <th>mean</th>\n",
       "      <td>4.565517e+08</td>\n",
       "      <td>557.357670</td>\n",
       "      <td>61592.610008</td>\n",
       "      <td>2.070057</td>\n",
       "      <td>3.547990</td>\n",
       "      <td>107.171736</td>\n",
       "      <td>94.349810</td>\n",
       "      <td>14.462510</td>\n",
       "      <td>32.452174</td>\n",
       "      <td>0.0</td>\n",
       "      <td>1.991524e+08</td>\n",
       "      <td>117.082050</td>\n",
       "    </tr>\n",
       "    <tr>\n",
       "      <th>std</th>\n",
       "      <td>1.730670e+08</td>\n",
       "      <td>371.192573</td>\n",
       "      <td>28386.361369</td>\n",
       "      <td>3.213727</td>\n",
       "      <td>3.137995</td>\n",
       "      <td>89.448125</td>\n",
       "      <td>357.118752</td>\n",
       "      <td>46.452751</td>\n",
       "      <td>14.133418</td>\n",
       "      <td>0.0</td>\n",
       "      <td>1.718332e+08</td>\n",
       "      <td>102.038427</td>\n",
       "    </tr>\n",
       "    <tr>\n",
       "      <th>min</th>\n",
       "      <td>4.396600e+04</td>\n",
       "      <td>3.000000</td>\n",
       "      <td>0.000000</td>\n",
       "      <td>0.000000</td>\n",
       "      <td>0.000000</td>\n",
       "      <td>-83.120000</td>\n",
       "      <td>0.000000</td>\n",
       "      <td>0.000000</td>\n",
       "      <td>12.000000</td>\n",
       "      <td>0.0</td>\n",
       "      <td>2.110000e+02</td>\n",
       "      <td>-1344.000000</td>\n",
       "    </tr>\n",
       "    <tr>\n",
       "      <th>25%</th>\n",
       "      <td>3.692606e+08</td>\n",
       "      <td>274.000000</td>\n",
       "      <td>33012.000000</td>\n",
       "      <td>0.000000</td>\n",
       "      <td>1.000000</td>\n",
       "      <td>48.040000</td>\n",
       "      <td>0.000000</td>\n",
       "      <td>0.000000</td>\n",
       "      <td>24.000000</td>\n",
       "      <td>0.0</td>\n",
       "      <td>1.853463e+07</td>\n",
       "      <td>62.007500</td>\n",
       "    </tr>\n",
       "    <tr>\n",
       "      <th>50%</th>\n",
       "      <td>4.760580e+08</td>\n",
       "      <td>487.000000</td>\n",
       "      <td>76119.000000</td>\n",
       "      <td>0.000000</td>\n",
       "      <td>3.000000</td>\n",
       "      <td>80.430000</td>\n",
       "      <td>0.000000</td>\n",
       "      <td>0.000000</td>\n",
       "      <td>26.000000</td>\n",
       "      <td>0.0</td>\n",
       "      <td>1.660589e+08</td>\n",
       "      <td>93.760000</td>\n",
       "    </tr>\n",
       "    <tr>\n",
       "      <th>75%</th>\n",
       "      <td>5.770807e+08</td>\n",
       "      <td>764.000000</td>\n",
       "      <td>85041.000000</td>\n",
       "      <td>3.000000</td>\n",
       "      <td>6.000000</td>\n",
       "      <td>134.450000</td>\n",
       "      <td>0.000000</td>\n",
       "      <td>0.000000</td>\n",
       "      <td>52.000000</td>\n",
       "      <td>0.0</td>\n",
       "      <td>3.524943e+08</td>\n",
       "      <td>146.012500</td>\n",
       "    </tr>\n",
       "    <tr>\n",
       "      <th>max</th>\n",
       "      <td>8.277996e+08</td>\n",
       "      <td>2899.000000</td>\n",
       "      <td>320568.000000</td>\n",
       "      <td>24.000000</td>\n",
       "      <td>48.000000</td>\n",
       "      <td>696.710000</td>\n",
       "      <td>3714.450000</td>\n",
       "      <td>337.000000</td>\n",
       "      <td>52.000000</td>\n",
       "      <td>0.0</td>\n",
       "      <td>4.902396e+08</td>\n",
       "      <td>2240.740000</td>\n",
       "    </tr>\n",
       "  </tbody>\n",
       "</table>\n",
       "</div>"
      ],
      "text/plain": [
       "                 id  approval_amount       zip_code  \\\n",
       "count  6.095000e+03      6095.000000    6095.000000   \n",
       "mean   4.565517e+08       557.357670   61592.610008   \n",
       "std    1.730670e+08       371.192573   28386.361369   \n",
       "min    4.396600e+04         3.000000       0.000000   \n",
       "25%    3.692606e+08       274.000000   33012.000000   \n",
       "50%    4.760580e+08       487.000000   76119.000000   \n",
       "75%    5.770807e+08       764.000000   85041.000000   \n",
       "max    8.277996e+08      2899.000000  320568.000000   \n",
       "\n",
       "       months_at_current_residence  years_at_current_residence  \\\n",
       "count                  6095.000000                 6095.000000   \n",
       "mean                      2.070057                    3.547990   \n",
       "std                       3.213727                    3.137995   \n",
       "min                       0.000000                    0.000000   \n",
       "25%                       0.000000                    1.000000   \n",
       "50%                       0.000000                    3.000000   \n",
       "75%                       3.000000                    6.000000   \n",
       "max                      24.000000                   48.000000   \n",
       "\n",
       "       scheduled_payment_amt  past_due_amt  days_past_due  number_of_payments  \\\n",
       "count            6095.000000   6095.000000    6095.000000         6095.000000   \n",
       "mean              107.171736     94.349810      14.462510           32.452174   \n",
       "std                89.448125    357.118752      46.452751           14.133418   \n",
       "min               -83.120000      0.000000       0.000000           12.000000   \n",
       "25%                48.040000      0.000000       0.000000           24.000000   \n",
       "50%                80.430000      0.000000       0.000000           26.000000   \n",
       "75%               134.450000      0.000000       0.000000           52.000000   \n",
       "max               696.710000   3714.450000     337.000000           52.000000   \n",
       "\n",
       "       amount_financed   merchant_id  last_payment_amount  \n",
       "count           2855.0  6.095000e+03          3044.000000  \n",
       "mean               0.0  1.991524e+08           117.082050  \n",
       "std                0.0  1.718332e+08           102.038427  \n",
       "min                0.0  2.110000e+02         -1344.000000  \n",
       "25%                0.0  1.853463e+07            62.007500  \n",
       "50%                0.0  1.660589e+08            93.760000  \n",
       "75%                0.0  3.524943e+08           146.012500  \n",
       "max                0.0  4.902396e+08          2240.740000  "
      ]
     },
     "execution_count": 6,
     "metadata": {},
     "output_type": "execute_result"
    }
   ],
   "source": [
    "df1.describe()"
   ]
  },
  {
   "cell_type": "markdown",
   "metadata": {},
   "source": [
    "Por medio del describe se nos muestra un summary de cuartiles, cantidad de registros,la media y desviación estandar"
   ]
  },
  {
   "cell_type": "markdown",
   "metadata": {},
   "source": [
    "## Exploración de los datos y verificación de datos"
   ]
  },
  {
   "cell_type": "markdown",
   "metadata": {},
   "source": [
    "Para esta sección se aplicaran ambos casos, aunque también se ha aplicado exploración de los datos en la sección anterior."
   ]
  },
  {
   "cell_type": "markdown",
   "metadata": {},
   "source": [
    "### Analisis de variables nulas"
   ]
  },
  {
   "cell_type": "markdown",
   "metadata": {},
   "source": [
    "En la siguiente sección se evaluara la cantidad de nulos, esta cantidad sera mostrada por medio del porcentaje de nulos para cada columna."
   ]
  },
  {
   "cell_type": "code",
   "execution_count": 7,
   "metadata": {},
   "outputs": [
    {
     "data": {
      "text/plain": [
       "id                             0.0000\n",
       "approval_amount                0.0000\n",
       "recommendation                 0.0000\n",
       "redeem_ts                      0.5742\n",
       "contacted                      0.0000\n",
       "email_contacted_ts             0.0786\n",
       "sms_contacted_ts               0.3993\n",
       "birth_dt                       0.0000\n",
       "state                          0.0000\n",
       "city                           0.0003\n",
       "zip_code                       0.0000\n",
       "rent_or_own                    0.0000\n",
       "months_at_current_residence    0.0000\n",
       "years_at_current_residence     0.0000\n",
       "direct_deposit                 0.0028\n",
       "black_listed                   0.0000\n",
       "language_preference            0.0000\n",
       "military_applicant             0.0000\n",
       "payment_frequency              0.0000\n",
       "scheduled_payment_amt          0.0000\n",
       "past_due_amt                   0.0000\n",
       "account_payment_method         0.0000\n",
       "collections_category           0.4167\n",
       "days_past_due                  0.0000\n",
       "number_of_payments             0.0000\n",
       "amount_financed                0.5316\n",
       "data_correction                0.0000\n",
       "merchant_id                    0.0000\n",
       "source                         0.0000\n",
       "initial_decision               0.0000\n",
       "last_payment_amount            0.5006\n",
       "dtype: float64"
      ]
     },
     "execution_count": 7,
     "metadata": {},
     "output_type": "execute_result"
    }
   ],
   "source": [
    "df1.isna().mean().round(4)"
   ]
  },
  {
   "cell_type": "markdown",
   "metadata": {},
   "source": [
    "Se puede observar existe varias columnas que contienen un alto porcentaje de nulos, por lo cual en la siguiente fase seran evaluadas."
   ]
  },
  {
   "cell_type": "markdown",
   "metadata": {},
   "source": [
    "### Análisis para conversión de datos"
   ]
  },
  {
   "cell_type": "markdown",
   "metadata": {},
   "source": [
    "Algunas variables presentan valores nulos, que en una representacion binario serian de un valor cero y si contienen datos serian un valor 1."
   ]
  },
  {
   "cell_type": "markdown",
   "metadata": {},
   "source": [
    "**sms_contacted_ts**\n",
    "\n",
    "Esta columna aplica dado que los nulos equivalen a personas que no fueron contactadas por SMS, esta información si es importante para nuestro análisis, en la siguiente fase remplazaremos estos valores por valores booleanos para identificar las personas contactadas por este medio.\n",
    "\n",
    "**emal_contacted**\n",
    "\n",
    "Esta columna aplica dado que los nulos equivalen a personas que no fueron contactadas por email, esta información si es importante para nuestro análisis, en la siguiente fase remplazaremos estos valores por valores booleanos para identificar las personas contactadas por este medio.\n",
    "\n",
    "**redeem_ts**\n",
    "\n",
    "Un caso muy similar a las otra columnas donde los valores nulos serian personas que no se le presentaron oferta, y las instancias con valores de fecha serian las personas que si se le presentaron una oferta.\n",
    "\n",
    "**direct_deposit**\n",
    "\n",
    "Columna Booleane que indica si se hizo un depósito directo, para el caso de los valores nulos que se encuentran seran tomados como falsos."
   ]
  },
  {
   "cell_type": "code",
   "execution_count": null,
   "metadata": {},
   "outputs": [],
   "source": []
  }
 ],
 "metadata": {
  "kernelspec": {
   "display_name": "Python 3",
   "language": "python",
   "name": "python3"
  },
  "language_info": {
   "codemirror_mode": {
    "name": "ipython",
    "version": 3
   },
   "file_extension": ".py",
   "mimetype": "text/x-python",
   "name": "python",
   "nbconvert_exporter": "python",
   "pygments_lexer": "ipython3",
   "version": "3.6.4"
  }
 },
 "nbformat": 4,
 "nbformat_minor": 2
}
