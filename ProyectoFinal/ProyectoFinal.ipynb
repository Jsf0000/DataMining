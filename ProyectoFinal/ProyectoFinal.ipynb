{
 "cells": [
  {
   "cell_type": "markdown",
   "metadata": {},
   "source": [
    "# Portada\n",
    "\n",
    "### Estudiantes:\n",
    "\n",
    "    Jason Solano \n",
    "\n",
    "    Percy herrara\n",
    "### Curso\n",
    "    Inteligencia de negocios y mineria de datos\n",
    "### Trabajo\n",
    "    Projecto Final "
   ]
  },
  {
   "cell_type": "markdown",
   "metadata": {},
   "source": [
    "# Fase de Entendimiento del negocio"
   ]
  },
  {
   "cell_type": "markdown",
   "metadata": {},
   "source": [
    "## Objetivos del negocio"
   ]
  },
  {
   "cell_type": "markdown",
   "metadata": {},
   "source": [
    "- Facilitar el pronóstico de cuentas que pueden ser incobrables a un largo plazo para poder establecer un arreglo de pago para realizar una liquidación adecuada de la cuenta.\n",
    "\n",
    "\n",
    "- Poder ofrecer una herramienta para el diseño robusto de campañas de cobro de carteras de crédito, las cuales pueden estar conformadas con cuentas que pueden ser incobrables.\n"
   ]
  },
  {
   "cell_type": "markdown",
   "metadata": {},
   "source": [
    "## Criterios de éxito en términos de negocio"
   ]
  },
  {
   "cell_type": "markdown",
   "metadata": {},
   "source": [
    "- Lograr la identificación exitosa de cuentas que pueden ser incobrables para una entidad financiera, reduciendo la cantidad de cuentas incobrables al menos en 30% de acuerdo a los datos históricos de la entidad financiero.\n",
    "\n",
    "\n",
    "- Mostrar a las entidades financieros cuales son los atributos de los clientes  que lo puede llevar a ser una cuenta incobrable para poder facilitar la estadística descriptiva de la entidad financiera."
   ]
  },
  {
   "cell_type": "markdown",
   "metadata": {},
   "source": [
    "# Objetivos de minería de datos"
   ]
  },
  {
   "cell_type": "markdown",
   "metadata": {},
   "source": [
    "- Identificar por medio de modelos de predicción potenciales cuentas que puedan ser incobrables en un futuro, para ofrecer una liquidación por medio de un arreglo de pago.\n",
    "\n",
    "- Identificar cuales son los atributos que más influyen para determinar si una cuenta se le debe realizar la oferta de liquidación debido a que  es catalogada como incobrabl\n"
   ]
  },
  {
   "cell_type": "markdown",
   "metadata": {},
   "source": [
    "# Criterios de éxito para la minería de datos"
   ]
  },
  {
   "cell_type": "markdown",
   "metadata": {},
   "source": [
    "- Obtener al menos un modelo que presente un accuracy (métrica de precisión para exactitud) mayor a un 70% con la utilización de datos externos a los utilizados en el entrenamiento.\n",
    "\n",
    "- Optimizar con diferentes parámetros al menos tres modelos utilizados para la predicción en la categoría de clasificación binaria.\n"
   ]
  },
  {
   "cell_type": "code",
   "execution_count": null,
   "metadata": {},
   "outputs": [],
   "source": []
  }
 ],
 "metadata": {
  "kernelspec": {
   "display_name": "Python 3",
   "language": "python",
   "name": "python3"
  },
  "language_info": {
   "codemirror_mode": {
    "name": "ipython",
    "version": 3
   },
   "file_extension": ".py",
   "mimetype": "text/x-python",
   "name": "python",
   "nbconvert_exporter": "python",
   "pygments_lexer": "ipython3",
   "version": "3.6.4"
  }
 },
 "nbformat": 4,
 "nbformat_minor": 2
}
